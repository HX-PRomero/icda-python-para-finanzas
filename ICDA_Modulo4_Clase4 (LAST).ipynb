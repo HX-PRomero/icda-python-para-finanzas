{
 "cells": [
  {
   "cell_type": "code",
   "execution_count": null,
   "metadata": {},
   "outputs": [],
   "source": [
    "from IPython.core.display import display, HTML\n",
    "display(HTML(\"<style>.container { width:95% !important; }</style>\")) #$\\color{red}{\\text{ciao}}$"
   ]
  },
  {
   "cell_type": "markdown",
   "metadata": {},
   "source": [
    "![title](img/fig_intro.png)"
   ]
  },
  {
   "cell_type": "markdown",
   "metadata": {},
   "source": [
    "# Python para Finanzas y Ciencia de Datos\n",
    "____\n",
    "\n",
    "# Módulo 4\n",
    "#### Profesor: Jonatan Saúl\n",
    "\n",
    "1. Statistics Concepts\n",
    "2. Portfolio Optimization\n",
    "3. Principal Component Analysis (PCA)\n",
    "4. Value-at-Risk (VaR)\n",
    "____"
   ]
  },
  {
   "cell_type": "code",
   "execution_count": 1,
   "metadata": {},
   "outputs": [],
   "source": [
    "# IMPORTAMOS LAS LIBRERÍAS QUE VAMOS A USAR A LO LARGO DEL MÓDULO.\n",
    "import numpy as np\n",
    "import pandas as pd\n",
    "\n",
    "from matplotlib.ticker import FuncFormatter\n",
    "import matplotlib as mpl\n",
    "import matplotlib.pyplot as plt\n",
    "%matplotlib inline\n",
    "\n",
    "from datetime import datetime\n",
    "from numpy.random import multivariate_normal\n",
    "import yfinance as yf\n",
    "\n",
    "import scipy.stats as scs\n",
    "import scipy.optimize as sco\n",
    "import scipy.interpolate as sci\n",
    "from scipy.stats import gaussian_kde\n",
    "\n",
    "import statsmodels.api as sm\n",
    "\n",
    "import plotly.express as px\n",
    "import plotly.graph_objects as go\n",
    "import plotly.figure_factory as ff\n",
    "\n",
    "import seaborn as sns\n",
    "\n",
    "#import functions as f \n",
    "\n",
    "import random\n",
    "random.seed(1000)\n"
   ]
  },
  {
   "cell_type": "markdown",
   "metadata": {},
   "source": [
    "# Some important statistics concepts\n",
    "\n",
    "### Random variables and probability functions\n",
    "\n",
    "A **random variable** is a function that maps the outcomes of random phenomena to a unique numerical value.\n",
    "\n",
    "A random variable can be **discrete** or **continuous**.  \n",
    "+ A discrete random variable $X$ has a countable number of possible values, e.g: rolling a dice. \n",
    "+ A continuous random variable $X$ takes all values in a given interval of numbers, e.g: the returns of a risky asset.\n",
    "\n",
    "The function that relates outcomes to their probabilities in continuous random variables is called **probability density function (PDF)**.\n",
    "\n",
    "The **distribution function** shows the probability of receiving an outcome or a lower one, that is, it shows the cumulative probabilities.\n",
    "\n",
    "Let $X$ be a random variable, $q$ certain realization of that random variable, $f(x)$ the probability density function and $F(x)$ the distribution probability, then the probability that $X \\leq q$ is:\n",
    "\n",
    "$$ F(q) = \\int_{-\\infty}^{q}f(x)dx$$\n"
   ]
  },
  {
   "cell_type": "markdown",
   "metadata": {},
   "source": [
    "<h4 align=\"center\"> Density function and Boxplot </h4>\n",
    "<img src='https://upload.wikimedia.org/wikipedia/commons/thumb/1/1a/Boxplot_vs_PDF.svg/800px-Boxplot_vs_PDF.svg.png' width=\"40%\" align=\"center\"/>"
   ]
  },
  {
   "cell_type": "markdown",
   "metadata": {},
   "source": [
    "### Moments of a random variable\n",
    "\n",
    "**Expectation**\n",
    "\n",
    "In probability theory, the expected value of a random variable $X$, $E(X)$ or $E[X]$, is a generalization of the weighted average, and is intuitively the arithmetic mean of a large number of independent realizations of $X$.\n",
    "\n",
    "The expectation of $X$, $\\mu$, is the expected value or mean of the variable. It is defined by:\n",
    "\n",
    "$$\\mu_x = E(X) = \\int_{-\\infty}^{\\infty}x f(x) dx$$\n",
    "\n",
    "or\n",
    "$$ \\mu_x=\\sum_{i=1}^{N}X_i Pr(X_i)$$\n",
    "in the discrete case. \n",
    "\n",
    "\n",
    "\n",
    "**Variance**\n",
    "\n",
    "The variance of $X$ measures the spread of the variable around its mean. It is defined by:\n",
    "\n",
    "$$\\sigma^2_x = E \\left[ (X - \\mu)^2\\right] = \\int_{-\\infty}^{\\infty}(x - \\mu)^2 f(x) dx$$\n",
    "\n",
    "And the discrete case:\n",
    "$$ \\sigma^2_x = \\sum_{i=1}^{N}(X_i-\\mu)^2 Pr(X_i) $$\n",
    "\n",
    "\n"
   ]
  },
  {
   "cell_type": "markdown",
   "metadata": {},
   "source": [
    "#### Higher order moments:\n",
    "\n",
    "The *k-th* moment of a random variable $X$ is defined by:\n",
    "$$m_k' = E(X^k)= \\int_{-\\infty}^\\infty x^k\\,f(x)\\,\\mathrm{d}x $$\n",
    "\n",
    "and the *k-th* centered moment of a random variable is defined by:\n",
    "$$m_k = E\\left[ (X - \\mu) ^k \\right] = \\int_{-\\infty}^\\infty (x - \\mu)^k\\,f(x)\\,\\mathrm{d}x$$\n",
    "\n",
    "Note that the first moment is the mean and the second centered moment is the variance."
   ]
  },
  {
   "cell_type": "markdown",
   "metadata": {},
   "source": [
    "**Skewness** and **Kurtosis** are functions of the third and fourth moments.\n",
    "\n",
    "\n",
    "**Skewness**:\n",
    "It is a measure of the asymmetry of the probability distribution of a random variable about its mean. In other words, skewness tells you the amount and direction of skew (departure from horizontal symmetry). \n",
    "\n",
    "$$ \\gamma = \\frac{m_3}{\\sigma^3} =  \\frac{\\int_{-\\infty}^\\infty (x - \\mu)^3\\,f(x)\\,\\mathrm{d}x}{\\left[\\int_{-\\infty}^\\infty (x - \\mu)^2\\,f(x)\\,\\mathrm{d}x\\right]^{\\frac{3}{2}}}$$\n",
    "\n",
    "where $ m_{3}$ third centered moment.\n",
    "\n",
    "The skewness value can be positive or negative, or even undefined. If skewness is 0, the data are perfectly symmetrical, although it is quite unlikely for real-world data. \n",
    "As a general rule of thumb:\n",
    "\n",
    " - If $\\gamma $ is less than -1 or greater than 1, the distribution is highly skewed.\n",
    " - If $\\gamma $ is between -1 and -0.5 or between 0.5 and 1, the distribution is moderately skewed.\n",
    " - If $\\gamma $ is between -0.5 and 0.5, the distribution is approximately symmetric.\n",
    "\n",
    "<img src='https://upload.wikimedia.org/wikipedia/commons/c/cc/Relationship_between_mean_and_median_under_different_skewness.png' width=\"60%\"/>\n",
    "\n",
    "\n",
    "**Kurtosis**: \n",
    "This statistic tells you the height and sharpness of the central peak, relative to that of a standard bell curve.\n",
    "\n",
    "$$ \\beta = \\frac{m_4}{\\sigma^4} =  \\frac{\\int_{-\\infty}^\\infty (x - \\mu)^4\\,f(x)\\,\\mathrm{d}x}{\\left[\\int_{-\\infty}^\\infty (x - \\mu)^2\\,f(x)\\,\\mathrm{d}x\\right]^{2}}$$\n",
    "\n",
    "\n",
    " - If the $\\beta$ equals 3, the distribution is normal (mesokurtic).\n",
    " - If the $\\beta$ is less than 3, the distribution is platykurtic.\n",
    " - If the $\\beta$ is greater than 3, the distribution is leptokurtic.\n",
    "\n",
    "<img src='https://cdn-images-1.medium.com/max/1600/1*Nqu07THa7APRTOF7kaVr5Q.jpeg' width='40%'/>\n",
    "\n"
   ]
  },
  {
   "cell_type": "markdown",
   "metadata": {},
   "source": [
    "### Sample moments\n",
    "\n",
    "When we collect date to study a random variable, what we got is the realization of that variable for each moment or individual. The true parameters of the variable in the population are unknown so we have to estimate them using the collected data: the sample.\n",
    "\n",
    "\n",
    "#### Sample Mean:\n",
    "$$\\hat{\\mu} = \\dfrac{1}{n} \\sum_{i=1}^nX_i$$\n",
    "\n",
    "#### Sample Variance:\n",
    "\n",
    "If $\\mu$ is known, we can compute the sample variance by:\n",
    "\n",
    "$$\\hat{\\sigma}^2= \\dfrac{1}{N}\\sum_{i=1}^N (x_i - \\mu)^2$$\n",
    "\n",
    "In the more realistic case, in which $\\mu$ is unknown we have to use the sample mean and adjust the formula in order to find the unbiased estimator for $\\sigma^2$:\n",
    "\n",
    "$$\\hat{\\sigma}^2= \\dfrac{1}{N-1}\\sum_{i=1}^N (x_i - \\hat{\\mu})^2$$\n",
    "\n",
    "#### Sample Standard Deviation:\n",
    "$$\\hat{\\sigma} = \\sqrt{\\hat{\\sigma}^2}$$\n",
    "\n",
    "\n",
    "#### Sample Skewness:\n",
    "$$ \\hat{\\gamma} = \\frac{\\sum_{i=1}^{N}(X_i-\\hat{\\mu})^3}{N\\hat{\\sigma}^3}$$\n",
    "\n",
    "#### Sample Kurtosis:\n",
    "$$ \\hat{\\beta} = \\frac{\\sum_{i=1}^{N}(X_i-\\hat{\\mu})^4}{N\\hat{\\sigma}^4}$$\n"
   ]
  },
  {
   "cell_type": "markdown",
   "metadata": {},
   "source": [
    "#### Normal distribution\n",
    "The normal distribution is the most commonly used distribution mainly beacuse is more convenient to work with than most other distributions, and it is completely described by the first and second moments.\n",
    "\n",
    "$X$ is normally distributed if it has the density:\n",
    "\n",
    "$$ f(x; \\mu, \\sigma) = \\dfrac{1}{\\sqrt{2\\pi}\\sigma} \\exp \\left[ - \\dfrac{1}{2} \\left( \\dfrac{x - \\mu}{\\sigma}\\right)^2\\right]$$\n",
    "\n",
    "and we write $X \\sim N (\\mu , \\sigma^2)$.\n",
    "\n",
    "The normal distribution is unimiodal, symmetric and centered on $\\mu$. The variance, $\\sigma^2$, governs the dispertion of the distribution.\n",
    "\n",
    "<h4 align=\"center\"> Probability density function </h4>\n",
    "<img src='https://upload.wikimedia.org/wikipedia/commons/7/74/Normal_Distribution_PDF.svg' width=\"50%\" align=\"center\"/>\n",
    "\n",
    "<h4 align=\"center\"> Cumulative distribution function </h4>\n",
    "<img src='https://upload.wikimedia.org/wikipedia/commons/c/ca/Normal_Distribution_CDF.svg' width=\"50%\" align=\"center\"/>\n",
    "\n",
    "\n",
    "\n",
    "**Standard normal distribution**: Is the name given to the normal distribution with mean zero and unit variance, that is: $X \\sim N (0,1) $.\n"
   ]
  },
  {
   "cell_type": "markdown",
   "metadata": {},
   "source": [
    "#### Other distributions:\n",
    " - Student's $t$-distribution\n",
    " - Uniform distribution\n",
    " - Chi-square distribution\n",
    " \n",
    "We can make use of numpy.random to simulate each type of random variable and see how their distributions look like.\n",
    "\n",
    "https://www.w3schools.com/python/numpy_random.asp"
   ]
  },
  {
   "cell_type": "code",
   "execution_count": null,
   "metadata": {},
   "outputs": [],
   "source": [
    "# Standard Normal\n",
    "norm = np.random.standard_normal(10000)\n",
    "print('-'*100)\n",
    "print('Simulating Standard Normal Variable')\n",
    "print(type(norm))\n",
    "print(np.shape(norm))\n",
    "print('-'*100)"
   ]
  },
  {
   "cell_type": "code",
   "execution_count": null,
   "metadata": {},
   "outputs": [],
   "source": [
    "norm"
   ]
  },
  {
   "cell_type": "code",
   "execution_count": null,
   "metadata": {},
   "outputs": [],
   "source": [
    "# Student t\n",
    "t = np.random.standard_t(5,10000)\n",
    "\n",
    "#Uniform\n",
    "unif = np.random.uniform(-1,1,10000)\n",
    "\n",
    "#Chi square\n",
    "chi = np.random.chisquare(2, 10000)"
   ]
  },
  {
   "cell_type": "markdown",
   "metadata": {},
   "source": [
    "We have generated 10000 observations of each random variable.\n",
    "\n",
    "Each distribution has some **parameters** that define it. For instance, \n",
    "+ the normal distribution is defined by its mean and variance, \n",
    "+ the Student's t and Chi square distributions are defined by their degree of freedom, and \n",
    "+ the uniform distribution is defined by its minimum and maximum values.\n",
    "\n",
    "The process of generating these many observations is known as **Monte Carlo simulations**. Let's see how these variables look like.\n",
    "\n",
    "We can use gaussian_kde (kernel density estimation) to estimate the probability density function"
   ]
  },
  {
   "cell_type": "markdown",
   "metadata": {},
   "source": [
    "https://docs.scipy.org/doc/scipy/reference/generated/scipy.stats.gaussian_kde.html"
   ]
  },
  {
   "cell_type": "code",
   "execution_count": null,
   "metadata": {},
   "outputs": [],
   "source": [
    "norm_density = gaussian_kde(norm) #"
   ]
  },
  {
   "cell_type": "markdown",
   "metadata": {},
   "source": [
    "https://numpy.org/doc/stable/reference/generated/numpy.linspace.html"
   ]
  },
  {
   "cell_type": "code",
   "execution_count": null,
   "metadata": {},
   "outputs": [],
   "source": [
    "xn = np.linspace(min(norm), max(norm)) #"
   ]
  },
  {
   "cell_type": "code",
   "execution_count": null,
   "metadata": {},
   "outputs": [],
   "source": [
    "xn"
   ]
  },
  {
   "cell_type": "code",
   "execution_count": null,
   "metadata": {},
   "outputs": [],
   "source": [
    "fig = plt.figure(figsize = (15,6))\n",
    "\n",
    "plt.hist(norm, color = 'blue', bins = 50, density = True, alpha = 1.0)\n",
    "plt.plot(xn, norm_density(xn), color = 'red', lw=4)\n",
    "plt.title('Standard normal')\n",
    "plt.grid(True)"
   ]
  },
  {
   "cell_type": "code",
   "execution_count": null,
   "metadata": {},
   "outputs": [],
   "source": [
    "# More variables...\n",
    "\n",
    "t_density = gaussian_kde(t)\n",
    "xt = np.linspace(min(t), max(t))\n",
    "\n",
    "unif_density = gaussian_kde(unif)\n",
    "xu = np.linspace(min(unif), max(unif))\n",
    "\n",
    "chi_density = gaussian_kde(chi)\n",
    "xch= np.linspace(min(chi), max(chi))"
   ]
  },
  {
   "cell_type": "code",
   "execution_count": null,
   "metadata": {
    "scrolled": false
   },
   "outputs": [],
   "source": [
    "fig = plt.figure(figsize = (22,9))\n",
    "plt.subplot(2,2,1)\n",
    "plt.hist(norm, color = 'blue', bins = 50, density = True, alpha = 0.8)\n",
    "plt.plot(xn, norm_density(xn), color = 'black', lw=2)\n",
    "plt.title('Standard normal')\n",
    "plt.grid(True)\n",
    "\n",
    "plt.subplot(2,2,2)\n",
    "plt.hist(t, color = 'orange', bins = 50, density = True, alpha = 0.8 )\n",
    "plt.plot(xt, t_density(xt), color = 'black', lw=2)\n",
    "plt.title('Student-t')\n",
    "plt.grid(True)\n",
    "\n",
    "plt.subplot(2,2,3)\n",
    "plt.hist(unif, color = 'green', bins = 50, density = True, alpha = 0.8)\n",
    "plt.plot(xu, unif_density(xu), color = 'black', lw=2)\n",
    "plt.title('Uniform')\n",
    "plt.grid(True)\n",
    "\n",
    "plt.subplot(2,2,4)\n",
    "plt.hist(chi, color = 'red', bins = 50, density = True, alpha = 0.8)\n",
    "plt.plot(xch, chi_density(xch), color = 'black', lw=2)\n",
    "plt.title('Chi square')\n",
    "plt.grid(True)"
   ]
  },
  {
   "cell_type": "markdown",
   "metadata": {},
   "source": [
    "Let's work with the standard normal variable. \n",
    "\n",
    "We know that a standard normal distribution has mean = 0 and standard deviation = 1. \n",
    "\n",
    "Let's calculate those moments using our generated data."
   ]
  },
  {
   "cell_type": "code",
   "execution_count": null,
   "metadata": {},
   "outputs": [],
   "source": [
    "mu_hat = norm.mean()\n",
    "sigma_hat = norm.std()\n",
    "\n",
    "print(\"The sample mean is \" + str(np.round(mu_hat,4)))\n",
    "print(\"The sample standard deviation is \" + str(np.round(sigma_hat,4)))"
   ]
  },
  {
   "cell_type": "markdown",
   "metadata": {},
   "source": [
    "If we had all the population data, then we would have the true mean and variance of the variable. \n",
    "\n",
    "Since we are only working with a portion of that population (the sample), we will always have some estimation error."
   ]
  },
  {
   "cell_type": "markdown",
   "metadata": {},
   "source": [
    "### Skewness and kurtosis\n",
    "\n",
    "We can also generate distributions using *scipy.stats*. \n",
    "\n",
    "The module *skewnorm* allows us to create asymmetric distributions. \n",
    "\n",
    "It takes a real number as the asymmetric parameter. \n",
    "\n",
    "When that number equals zero, the distribution is normal."
   ]
  },
  {
   "cell_type": "code",
   "execution_count": null,
   "metadata": {},
   "outputs": [],
   "source": [
    "from scipy.stats import skewnorm, t\n",
    "\n",
    "skew_a = [-50, 0, 50]\n",
    "x0 = skewnorm.rvs(skew_a[0], size=10000)\n",
    "x1 = skewnorm.rvs(skew_a[1],size=10000)\n",
    "x2 = skewnorm.rvs(skew_a[2], size=10000)"
   ]
  },
  {
   "cell_type": "code",
   "execution_count": null,
   "metadata": {},
   "outputs": [],
   "source": [
    "print('Simulating asymmetric distributions')\n",
    "print(type(x1))\n",
    "print(np.shape(x1))\n",
    "print('-'*100)"
   ]
  },
  {
   "cell_type": "code",
   "execution_count": null,
   "metadata": {},
   "outputs": [],
   "source": [
    "fig = plt.figure(figsize = (22,9))\n",
    "fig.suptitle('Different levels of skewness', fontsize = 16)\n",
    "\n",
    "plt.subplot(1,3,1)\n",
    "plt.hist(x0, color = 'orange', label='Negative Skew', bins = 30)\n",
    "plt.grid(True)\n",
    "plt.legend(loc = 'upper left')\n",
    "\n",
    "plt.subplot(1,3,2)\n",
    "plt.hist(x1, color = 'blue', label='Normal', bins = 30)\n",
    "plt.grid(True)\n",
    "plt.legend(loc = 'best')\n",
    "\n",
    "plt.subplot(1,3,3)\n",
    "plt.hist(x2, color = 'green', label='Positive Skew', bins = 30)\n",
    "plt.grid(True)\n",
    "plt.legend(loc = 'upper right')\n",
    "\n",
    ";"
   ]
  },
  {
   "cell_type": "markdown",
   "metadata": {},
   "source": [
    "Let's now create distributions with different levels of kurtosis "
   ]
  },
  {
   "cell_type": "code",
   "execution_count": null,
   "metadata": {},
   "outputs": [],
   "source": [
    "df = [5, 10, 200] \n",
    "\n",
    "y0 = t.rvs(df[0], size=10000, loc =0)\n",
    "y1 = t.rvs(df[1], size=10000, loc =0)\n",
    "y2 = t.rvs(df[2], size=10000, loc =0)"
   ]
  },
  {
   "cell_type": "code",
   "execution_count": null,
   "metadata": {},
   "outputs": [],
   "source": [
    "print('Simulating distributions with different levels of kurtosis')\n",
    "print(type(y1))\n",
    "print(np.shape(y1))\n",
    "print('-'*100)"
   ]
  },
  {
   "cell_type": "code",
   "execution_count": null,
   "metadata": {},
   "outputs": [],
   "source": [
    "ylim = 1500\n",
    "xlim = 8\n",
    "\n",
    "fig = plt.figure(figsize = (22,9))\n",
    "fig.suptitle('Different levels of kurtosis', fontsize = 16)\n",
    "\n",
    "plt.subplot(1,3,1)\n",
    "plt.hist(y0, color = 'orange', label='t with 5 df', bins = 50)\n",
    "plt.grid(True)\n",
    "plt.legend(loc = 'best')\n",
    "plt.ylim(0,ylim)\n",
    "plt.xlim(-xlim,xlim)\n",
    "\n",
    "plt.subplot(1,3,2)\n",
    "plt.hist(y1, color = 'blue', label='t with 10 df', bins = 50)\n",
    "plt.grid(True)\n",
    "plt.legend(loc = 'best')\n",
    "plt.ylim(0,ylim)\n",
    "plt.xlim(-xlim,xlim)\n",
    "\n",
    "plt.subplot(1,3,3)\n",
    "plt.hist(y2, color = 'green', label='t with 200 df', bins = 50)\n",
    "plt.grid(True)\n",
    "plt.legend(loc = 'best')\n",
    "plt.ylim(0,ylim)\n",
    "plt.xlim(-xlim,xlim)\n",
    "\n",
    ";"
   ]
  },
  {
   "cell_type": "markdown",
   "metadata": {},
   "source": [
    " "
   ]
  },
  {
   "cell_type": "markdown",
   "metadata": {},
   "source": [
    "![title](img/fig_intro.png)"
   ]
  },
  {
   "cell_type": "markdown",
   "metadata": {},
   "source": [
    "# Portfolio optimization: Modern Portfolio Theory\n",
    "\n",
    "* * *\n",
    "\n",
    "In 1952, Harry Markowitz proposed a normative model for selection of risky assets. \n",
    "\n",
    "The basic assumption was that inversors care about the **return** and **risk** of their portfolios. \n",
    "\n",
    "His great contribution was to define **return** as the mean of the probability distribution of assets returns and **risk** as the variance of that distribution.\n",
    "\n",
    "By defining risk as variance, Markowitz was able to quantify precisely the gains of diversification: through diversification, risk can be reduced (though not eliminated) without changing the expected portfolio return.\n"
   ]
  },
  {
   "cell_type": "markdown",
   "metadata": {},
   "source": [
    "## Basic theory\n",
    "\n",
    "### The expected return on a portfolio\n",
    "\n",
    "The return of a risky asset *j* will be defined as\n",
    "\n",
    "$$ R_{j,t+1,s} = \\dfrac{P_{j,t+1,s} - P_{j,t}}{P_{j,t}}$$\n",
    "\n",
    "Where $P$ denotes the price of the asset, $t$ is the date in which the asset is bought, $t+1$ is the date in which the asset is sold and $s$ denote the state of nature.\n",
    "\n",
    "For simplicity, we will asume that the return's distribution is discrete and $\\pi_s$ is the probability of each state of the nature. Thus, its expectation equals:\n",
    "\n",
    "$$E(R_{j,t+1}) = \\sum_{s = 1}^S \\pi_s R_{j,t+1,s}$$\n",
    "\n",
    "Consider a portfolio consisting of N assets, and let $\\omega_j$ be the weight of each asset in the cost of the portfolio, then the return of this portfolio is:\n",
    "\n",
    "$$R_{p,t+1,s}  = \\sum_{j=1}^N \\omega_j R_{j,t+1,s}$$\n",
    "\n",
    "That is, the return on a portfolio is a weithed average of the returns of the assets in the portfolio.\n",
    "\n",
    "The portfolio's expected return is also the weigthed average of the asset expected returns:\n",
    "\n",
    "$$E(R_p) = \\sum_{j=1}^N\\omega_jE(R_j)$$\n",
    "\n",
    "\n",
    "### Measurement of risk and diversification\n",
    "\n",
    "The variance of an asset return equals:\n",
    "\n",
    "$$\\sigma_j^2 = E [R_j - E(R_j)]^2 = \\sum_{s=1}^S \\pi_s [R_j - E(R_j)]^2$$\n",
    "\n",
    "\n",
    "In order to understand how can a portfolio reduce its risk through diversification, let's asume we only have two assets. The variance of this two-assets portfolio is:\n",
    "\n",
    "$$ \\sigma^2_p = \\omega^2\\sigma_1^2 + (1 - \\omega)^2\\sigma_2^2 + 2 \\omega(1 - \\omega)\\sigma_{12}$$\n",
    "\n",
    "$$ \\sigma^2_p = \\omega^2\\sigma_1^2 + (1 - \\omega)^2\\sigma_2^2 + 2 \\omega(1 - \\omega)\\rho_{12}\\sigma_1\\sigma_2$$\n",
    "\n",
    "Note that the variance of the portfolio depends on the correlation between the assets. We will explore how different correlations have a different impact on the variance of the portfolio and therefore in diversification gains.\n",
    "\n",
    "\n",
    "The entire model is described by mean and variance of the assets. \n",
    "\n",
    "Therefore we are necessarily assuming that no other statistics are necessary to describe the distribution of end-of-period wealth. \n",
    "\n",
    "Since normal distribution is determined by mean and variance, if returns are normal distributed then we can fully describe the investment opportunity set. We will need to verify this condition and in case it doesn't hold we will have to assume so.\n",
    "\n",
    "We define the **invesment opportunity set** as the pairs of mean and standard deviation that can be achived by inversing arbitrary amounts in the *N* risky assets. The **frontier** of the invesment opportunity set is defined as the set of portfolios with minimum variance among all portfolios with equal expected returns.\n",
    "\n",
    "\n",
    "### Sharpe ratio\n",
    "\n",
    "In order to be capable to compare between different investment choices, we need a risk-adjusted return measure. Sharpe ratio is defined as the excess portfolio return over the risk-free rate relative to its standard deviation:\n",
    "\n",
    "$$ S = \\dfrac{E(R_p) - R_f}{\\sigma_p}$$\n",
    "\n",
    "where $R_f$ is the risk free rate of the market."
   ]
  },
  {
   "cell_type": "markdown",
   "metadata": {},
   "source": [
    "### Matrix notation\n",
    "\n",
    "For computational purposes it is much more useful to have a matrix representation of the above measures of the porfolio.\n",
    "\n",
    "The expected return of the porfolio is:\n",
    "\n",
    "$$E(R_p) = \\omega' E(R)$$\n",
    "\n",
    "where $E(R)$ is the vector containing the expected returns of all the assets and $\\omega$ is the vector of weights.\n",
    "\n",
    "\n",
    "The variance of the portfolio is:\n",
    "\n",
    "$$\\sigma_p^2 = \\omega' \\Sigma \\omega$$\n",
    "\n",
    "where $\\Sigma$ is the covariance matrix of the returns:\n",
    "\n",
    "$$ \\Sigma =  \\begin{bmatrix} \\sigma_1^2 & \\sigma_{1,2} & \\dots & \\sigma_{1,N}\\\\\n",
    "\\sigma_{2,1} & \\sigma_{2}^2 & \\dots & \\sigma_{2,N}\\\\\n",
    "\\vdots & \\vdots & \\ddots & \\vdots\\\\\n",
    "\\sigma_{N,1} & \\sigma_{N,2} & \\dots & \\sigma_{N}^2\n",
    "\\end{bmatrix}$$"
   ]
  },
  {
   "cell_type": "markdown",
   "metadata": {},
   "source": [
    "### Different correlations\n",
    "\n",
    "Supose we have 2 normaly distributed assets.  We want to explore how a different correlation between them can generate different results in terms of diversification gains.\n",
    "\n",
    "Recall the variance of the portfolio is\n",
    "\n",
    "\n",
    "$$ \\sigma^2_p = \\omega^2\\sigma_1^2 + (1 - \\omega)^2\\sigma_2^2 + 2 \\omega(1 - \\omega)\\rho_{12}\\sigma_1\\sigma_2$$\n",
    "\n",
    "Let's asume for simplicity that both assets have the same variance. Then,\n",
    "\n",
    "$$ \\sigma^2_p = \\left[1 - 2\\omega(1 - \\omega)(1 - \\rho_{12})\\right]\\sigma^2$$\n",
    "\n",
    "This allows as to visualize the reduction of the portfolio variance compared to the variance of the assets, i.e. diversification gains.\n",
    "\n",
    "\n",
    "\n",
    "#### Case 1: Uncorrelated returns ($\\rho =0$)\n",
    "\n",
    "The maximum reduction in variance is achived when the inversment is equally split across securities ($\\omega = 1/2$), which gives:\n",
    "\n",
    "$$ \\sigma^2_p = [1 - 2\\omega(1 - \\omega)]\\sigma^2$$\n",
    "\n",
    "$$\\sigma^2_p = \\left[1 - \\dfrac{1}{2}\\right]\\sigma^2  = \\dfrac{1}{2}\\sigma^2$$\n",
    "\n",
    "This means that by combining the two assets, variance can be reduced to half of individual variances. \n",
    "\n",
    "This makes sense if we think of what a zero correlation means. Think for instance of tossing a coin twice, where the outcome of each toss is independent of the other. \n",
    "\n",
    "If instead of betting everything on a single toss we split out money into two toss, some losses will be offset by gains on the other gamble, but we may still lose on boths. \n",
    "\n",
    "Risk is reduced but not eliminated."
   ]
  },
  {
   "cell_type": "markdown",
   "metadata": {},
   "source": [
    "We will set the same variances for both assets and equal to 1. This will imply that $\\rho_{12} = \\dfrac{cov_{12}}{var_1 var_2} = cov_{12}$. Let's also assume that the assets means are 1 and 2."
   ]
  },
  {
   "cell_type": "code",
   "execution_count": null,
   "metadata": {},
   "outputs": [],
   "source": [
    "def rand_weights(n):\n",
    "    k = np.random.rand(n)\n",
    "    return k / sum(k)\n",
    "\n",
    "def portf_mean(w, mean):\n",
    "    mu = w.dot(mean)\n",
    "    return mu\n",
    "    \n",
    "def portf_var(w, cov_matrix):\n",
    "    \n",
    "    sigma2 = np.diagonal(w.dot(cov_matrix).dot(w.T))\n",
    "    return sigma2    "
   ]
  },
  {
   "cell_type": "code",
   "execution_count": null,
   "metadata": {},
   "outputs": [],
   "source": [
    "weights = np.zeros((500,2))\n",
    "#weights"
   ]
  },
  {
   "cell_type": "code",
   "execution_count": null,
   "metadata": {},
   "outputs": [],
   "source": [
    "for i in range(len(weights)):\n",
    "    weights[i] = rand_weights(2)"
   ]
  },
  {
   "cell_type": "code",
   "execution_count": null,
   "metadata": {},
   "outputs": [],
   "source": [
    "print(type(weights))\n",
    "print(weights.shape)\n",
    "#print(weights)"
   ]
  },
  {
   "cell_type": "code",
   "execution_count": null,
   "metadata": {},
   "outputs": [],
   "source": [
    "var1 = 1\n",
    "var2 = 1\n",
    "var= [var1, var2]\n",
    "mean = [1,2]\n",
    "\n",
    "print(f'Variance: {var}')\n",
    "print(f'Mean: {mean}')"
   ]
  },
  {
   "cell_type": "markdown",
   "metadata": {},
   "source": [
    "Let's plot the results..."
   ]
  },
  {
   "cell_type": "code",
   "execution_count": null,
   "metadata": {},
   "outputs": [],
   "source": [
    "fig = plt.figure(figsize = (12,6))\n",
    "plt.scatter(var, mean, marker='o',alpha = 0.8, label = 'Efficient part of the frontier')\n",
    "\n",
    "\n",
    "\n",
    "plt.xlabel('Variance')\n",
    "plt.ylabel('Mean')\n",
    "plt.xlim(-0.01)\n",
    "plt.legend(loc='lower left', fontsize = 13)\n",
    "plt.title('Mean-variance frontiers for two asset with correlation ??', fontsize = 15)\n",
    "plt.grid(True)"
   ]
  },
  {
   "cell_type": "markdown",
   "metadata": {},
   "source": [
    "Python *zip() Function* https://www.w3schools.com/python/ref_func_zip.asp\n",
    "\n",
    "We use zip(X, Y) to create an iterator that produces tuples of the form (x, y)."
   ]
  },
  {
   "cell_type": "code",
   "execution_count": null,
   "metadata": {},
   "outputs": [],
   "source": [
    "x = zip(mean, var)\n",
    "list(x)"
   ]
  },
  {
   "cell_type": "code",
   "execution_count": null,
   "metadata": {},
   "outputs": [],
   "source": [
    "first_names = ['Jane', 'John', 'Jennifer']\n",
    "last_names = ['Doe', 'Williams', 'Smith']\n",
    "\n",
    "for first, last in zip(first_names, last_names):\n",
    "    print(first, last)"
   ]
  },
  {
   "cell_type": "code",
   "execution_count": null,
   "metadata": {},
   "outputs": [],
   "source": [
    "first_names = ['Jane', 'John', 'Jennifer']\n",
    "last_names = ['Doe', 'Williams', 'Smith']\n",
    "ages = [20, 40, 30]\n",
    "\n",
    "for first, last, age in zip(first_names, last_names, ages):\n",
    "    print(f'{first} {last} is {age} years old')\n",
    "    \n",
    "print('-'*100)"
   ]
  },
  {
   "cell_type": "code",
   "execution_count": null,
   "metadata": {},
   "outputs": [],
   "source": [
    "nombres = zip(first_names, last_names, ages)\n",
    "list(nombres)"
   ]
  },
  {
   "cell_type": "markdown",
   "metadata": {},
   "source": [
    "Let's create a function that plots the results"
   ]
  },
  {
   "cell_type": "code",
   "execution_count": null,
   "metadata": {},
   "outputs": [],
   "source": [
    "def mean_var_plot(mean, var, corr):\n",
    "    fig = plt.figure(figsize = (22,9))              \n",
    "    plt.scatter(var, mean, marker='o',alpha = 0.8, label = 'Efficient part of the frontier')\n",
    "    \n",
    "    if corr == 1:\n",
    "        for mu, sigma in zip(mean, var):\n",
    "            if mu < max(mean):\n",
    "                plt.scatter(sigma, mu, color = 'tomato')\n",
    "        plt.scatter(x= var[np.argmax(mean)], y = max(mean), \n",
    "                    lw = 8, label = 'Minimum variance achieved',  marker= \"X\", c ='gold', s=70)\n",
    "\n",
    "    else:\n",
    "        for mu, sigma in zip(mean, var):\n",
    "            if mu < mean[np.argmin(var)]:\n",
    "                plt.scatter(sigma, mu, color = 'tomato')\n",
    "        plt.scatter(x= min(var), y = mean[np.argmin(var)], marker= \"X\",\n",
    "                   lw = 8, label = 'Minimum variance achieved', c ='gold', s=70)                \n",
    "            \n",
    "    plt.xlabel('Variance')\n",
    "    plt.ylabel('Mean')\n",
    "    plt.xlim(-0.01)\n",
    "    plt.legend(loc='lower left', fontsize = 13)\n",
    "    plt.title('Mean-variance frontiers for two asset with correlation '+ str(corr), fontsize = 15)\n",
    "    plt.grid(True)\n",
    "    \n",
    "    return"
   ]
  },
  {
   "cell_type": "code",
   "execution_count": null,
   "metadata": {
    "scrolled": false
   },
   "outputs": [],
   "source": [
    "#Case 1\n",
    "cov1 = 0\n",
    "cov_matrix1 = np.asarray([[var1, cov1],\n",
    "              [cov1, var2]])\n",
    "case1 = multivariate_normal(mean, cov_matrix1, size = 100)\n",
    "mean_p1= portf_mean(weights, mean)\n",
    "var_p1 = portf_var(weights, cov_matrix1)"
   ]
  },
  {
   "cell_type": "code",
   "execution_count": null,
   "metadata": {},
   "outputs": [],
   "source": [
    "mean_p1[np.argmin(var_p1)]"
   ]
  },
  {
   "cell_type": "code",
   "execution_count": null,
   "metadata": {},
   "outputs": [],
   "source": [
    "mean_var_plot(mean_p1, var_p1, corr = 0)"
   ]
  },
  {
   "cell_type": "markdown",
   "metadata": {},
   "source": [
    "#### Case 2: Imperfectly positively correlated returns ($\\rho =0.5$)\n",
    "\n",
    "$$ \\sigma^2_p = [1 - \\omega(1 - \\omega)]\\sigma^2$$\n",
    "\n",
    "Again, the maximum reduction in variance is achieved when the investment is equally split aross assets, but now:\n",
    "\n",
    "$$ \\sigma^2_p = \\left[1 - \\dfrac{1}{4}\\right]\\sigma^2 = \\dfrac{3}{4}\\sigma^2$$\n",
    "\n",
    "Only a quarter of individual variance can be reduced. Losses are offset by gains but assets returns tend to move in the same direction, so such compensations across assets are less frequent.\n"
   ]
  },
  {
   "cell_type": "code",
   "execution_count": null,
   "metadata": {},
   "outputs": [],
   "source": [
    "#Case 2\n",
    "cov2 = 0.5\n",
    "cov_matrix2 = [[var1, cov2],\n",
    "              [cov2, var2]]\n",
    "case2 = multivariate_normal(mean, cov_matrix2, size = 100)\n",
    "mean_p2= portf_mean(weights, mean)\n",
    "var_p2 = portf_var(weights,cov_matrix2)\n",
    "\n",
    "mean_var_plot(mean_p2, var_p2, corr = 0.5)"
   ]
  },
  {
   "cell_type": "markdown",
   "metadata": {},
   "source": [
    "#### Case 3: Perfectly positively correlated returns ($\\rho = 1$)\n",
    "\n",
    "$$ \\sigma^2_p = [1 - 2\\omega(1 - \\omega)(1-1)]\\sigma^2 = \\sigma^2$$\n",
    "\n",
    "Since assets always move in the same direction, there is no diversification gains.\n"
   ]
  },
  {
   "cell_type": "code",
   "execution_count": null,
   "metadata": {},
   "outputs": [],
   "source": [
    "#Case 3\n",
    "cov3 = 1\n",
    "cov_matrix3 = [[var1, cov3],\n",
    "              [cov3, var2]]\n",
    "case3 = multivariate_normal(mean, cov_matrix3, size = 100)\n",
    "mean_p3= portf_mean(weights, mean)\n",
    "var_p3 = portf_var(weights, cov_matrix3)\n",
    "\n",
    "mean_var_plot(mean_p3, var_p3, corr = 1)"
   ]
  },
  {
   "cell_type": "markdown",
   "metadata": {},
   "source": [
    "#### Case 4: Imperfectly negatively correlated returns  ($\\rho = -0.5$)\n",
    "\n",
    "$$ \\sigma^2_p = [1 - 3\\omega(1 - \\omega)]\\sigma^2 $$\n",
    "\n",
    "With $\\omega = 1/2$:\n",
    "\n",
    "$$ \\sigma^2_p = \\left[1 - \\dfrac{3}{4}\\right]\\sigma^2 = \\dfrac{1}{4}\\sigma^2$$\n",
    "\n",
    "Losses on one asset are offset by gains on the other. This happens more frequently than in the no correlation case, as asset returns tend to move in opposite directions.\n"
   ]
  },
  {
   "cell_type": "code",
   "execution_count": null,
   "metadata": {},
   "outputs": [],
   "source": [
    "#Case 4\n",
    "cov4 = -0.5\n",
    "cov_matrix4 = [[var1, cov4],\n",
    "              [cov4, var2]]\n",
    "case4 = multivariate_normal(mean, cov_matrix4, size = 100)\n",
    "mean_p4= portf_mean(weights, mean)\n",
    "var_p4 = portf_var(weights, cov_matrix4)\n",
    "\n",
    "mean_var_plot(mean_p4, var_p4, corr = -0.5)"
   ]
  },
  {
   "cell_type": "markdown",
   "metadata": {},
   "source": [
    "#### Case 5: Perfectly negatively correlated returns ($\\rho = -1$)\n",
    "\n",
    "$$ \\sigma^2_p = [1 - 4\\omega(1 - \\omega)(1-1)]\\sigma^2$$\n",
    "\n",
    "Setting $\\omega = 1/2$ we get:\n",
    "\n",
    "$$ \\sigma^2_p = \\left[1 - \\dfrac{4}{4}\\right]\\sigma^2 = 0 $$\n",
    "\n",
    "In this case losses are always compensated with gains so we can completely eliminate variance. Instead of risk diversification, we are actually talking about *risk hedging*. "
   ]
  },
  {
   "cell_type": "code",
   "execution_count": null,
   "metadata": {},
   "outputs": [],
   "source": [
    "#Case 5\n",
    "cov5 = -1\n",
    "cov_matrix5 = [[var1, cov5],\n",
    "              [cov5, var2]]\n",
    "case5 = multivariate_normal(mean, cov_matrix5, size = 100)\n",
    "mean_p5= portf_mean(weights, mean)\n",
    "var_p5 = portf_var(weights, cov_matrix5)\n",
    "\n",
    "mean_var_plot(mean_p5, var_p5, corr = -1)"
   ]
  },
  {
   "cell_type": "code",
   "execution_count": null,
   "metadata": {},
   "outputs": [],
   "source": [
    "fig = plt.figure(figsize = (22,9))              \n",
    "plt.scatter(var_p1, mean_p1, marker='o', lw = 0.1, alpha = 0.8, label = 'Case 1: no correlation')\n",
    "plt.scatter(var_p2, mean_p2, marker='o', lw = 0.1, alpha = 0.8, label = 'Case 2: 0.5 correlation') \n",
    "plt.scatter(var_p3, mean_p3, marker='o', lw = 0.1, alpha = 0.8, label = 'Case 3: perfect positive correlation') \n",
    "plt.scatter(var_p4, mean_p4, marker='o', lw = 0.1, alpha = 0.8, label = 'Case 4: -0.5 correlation') \n",
    "plt.scatter(var_p5, mean_p5, marker='o', lw = 0.1, alpha = 0.8, label = 'Case 5: perfect negative correlation') \n",
    "\n",
    "plt.xlabel('Variance', fontsize = 15)\n",
    "plt.ylabel('Mean', fontsize = 15)\n",
    "plt.xlim(0)\n",
    "plt.legend(loc='lower left', fontsize = 15)\n",
    "plt.grid(True)\n",
    "plt.title('Mean-variance frontiers for different correlations', fontsize = 17)"
   ]
  },
  {
   "cell_type": "code",
   "execution_count": null,
   "metadata": {},
   "outputs": [],
   "source": [
    "def returns_plot(cov):\n",
    "    cov_matrix = np.asarray([[1, cov],\n",
    "              [cov, 1]])\n",
    "    mean = [0,0]\n",
    "    case = multivariate_normal(mean, cov_matrix, size = 1000)\n",
    "    \n",
    "    fig = plt.figure(figsize = (22,9))\n",
    "    \n",
    "    plt.scatter(x=case[:,0], y=case[:,1])\n",
    "    plt.xlabel('Asset 1 returns')\n",
    "    plt.ylabel('Asset 2 returns')\n",
    "    plt.title('Scatter plot of assets returns with correlation '+ str(cov))\n",
    "    plt.xlim(-4,4)\n",
    "    plt.grid(True)\n",
    "    \n",
    "    return "
   ]
  },
  {
   "cell_type": "code",
   "execution_count": null,
   "metadata": {},
   "outputs": [],
   "source": [
    "cor = float(input(\"Correlation: \"))\n",
    "if cor> 1 or cor< -1:\n",
    "    print('Error! Correlation must be between -1 and 1')\n",
    "else:\n",
    "    returns_plot(cor)"
   ]
  },
  {
   "cell_type": "markdown",
   "metadata": {},
   "source": [
    "Let's now add a third asset."
   ]
  },
  {
   "cell_type": "code",
   "execution_count": null,
   "metadata": {},
   "outputs": [],
   "source": [
    "weights = np.zeros((2000,3))\n",
    "for i in range(len(weights)):\n",
    "    weights[i] = rand_weights(3)"
   ]
  },
  {
   "cell_type": "code",
   "execution_count": null,
   "metadata": {},
   "outputs": [],
   "source": [
    "weights.shape"
   ]
  },
  {
   "cell_type": "code",
   "execution_count": null,
   "metadata": {},
   "outputs": [],
   "source": [
    "noa = 3\n",
    "n_obs = 10000\n",
    "\n",
    "return_vec = np.random.randn(noa, n_obs)"
   ]
  },
  {
   "cell_type": "code",
   "execution_count": null,
   "metadata": {},
   "outputs": [],
   "source": [
    "return_vec.shape"
   ]
  },
  {
   "cell_type": "code",
   "execution_count": null,
   "metadata": {},
   "outputs": [],
   "source": [
    "np.mean(return_vec, axis = 1)"
   ]
  },
  {
   "cell_type": "code",
   "execution_count": null,
   "metadata": {},
   "outputs": [],
   "source": [
    "np.cov(return_vec)"
   ]
  },
  {
   "cell_type": "code",
   "execution_count": null,
   "metadata": {},
   "outputs": [],
   "source": [
    "pmean = portf_mean(weights, np.mean(return_vec, axis = 1))\n",
    "pvar = portf_var(weights, np.cov(return_vec))"
   ]
  },
  {
   "cell_type": "code",
   "execution_count": null,
   "metadata": {},
   "outputs": [],
   "source": [
    "print('-'*100)\n",
    "print(f' pmean type variable: {type(pmean)}, pmean Shape: {pmean.shape}')\n",
    "print('-'*100)\n",
    "print(f' pvar type variable: {type(pvar)}, pvar Shape: {pvar.shape}')\n",
    "print('-'*100)"
   ]
  },
  {
   "cell_type": "code",
   "execution_count": null,
   "metadata": {},
   "outputs": [],
   "source": [
    "fig = plt.figure(figsize = (22,9))          \n",
    "plt.scatter(pvar, pmean, marker='o', lw = 0.1, alpha = 0.8, c = pmean/np.sqrt(pvar))\n",
    "plt.grid(True)\n",
    "plt.title('Mean-variance of a portfolio with three assets', fontsize = 17)\n",
    "plt.xlabel('Variance', fontsize = 14)\n",
    "plt.ylabel('Mean', fontsize = 14)\n",
    "plt.colorbar(label = 'Sharpe ratio')\n",
    ";"
   ]
  },
  {
   "cell_type": "markdown",
   "metadata": {},
   "source": [
    "The graph above shows that when we invest in the three assets simultaneously, not only do we have access to more combinations of mean and variance, but also to better combinations. By adding a third asset to the portfolio, we profit from further diversification gains.\n",
    "\n",
    "When calculating the Shapre ratio we assume $R_f = 0$"
   ]
  },
  {
   "cell_type": "markdown",
   "metadata": {},
   "source": [
    "## Efficient frontier\n",
    "\n",
    "It is clear that not all weight distriburions perfom well when measured in terms of mean and variance. For example, for a fixed level of expected returns, say 0.04,  there are multiples portfolios that show different levels of risk. A rational investor would only be interested in the minimum risk given a fixed expected return, or the maximum return given a fixed risk level. This set of portfolios then makes up the so-called **efficient frontier**, which we will find now.\n",
    "\n",
    "We will explain in detail the steps for finding the efficient frontier later."
   ]
  },
  {
   "cell_type": "code",
   "execution_count": null,
   "metadata": {},
   "outputs": [],
   "source": [
    "tuple((0, 1) for x in range(noa))"
   ]
  },
  {
   "cell_type": "code",
   "execution_count": null,
   "metadata": {},
   "outputs": [],
   "source": [
    "pmean"
   ]
  },
  {
   "cell_type": "code",
   "execution_count": null,
   "metadata": {},
   "outputs": [],
   "source": [
    "bnds = tuple((0, 1) for x in range(noa))\n",
    "\n",
    "def min_func_port(w):\n",
    "    return statistics(w)[1]\n",
    "\n",
    "def statistics(weights):\n",
    "    \n",
    "    weights = np.array(weights) \n",
    "    pret = np.sum(np.mean(return_vec, axis = 1) * weights)\n",
    "    pvol = np.dot(weights, np.dot(np.cov(return_vec), weights.T))\n",
    "    \n",
    "    return np.array([pret, pvol, pret / pvol])\n",
    "\n",
    "trets = np.linspace(pmean.min(), pmean.max(), 100)\n",
    "tvols = []\n",
    "\n",
    "ef_we = []\n",
    "\n",
    "for tret in trets:\n",
    "    cons = ({'type': 'eq', 'fun': lambda x:  statistics(x)[0] - tret}, \n",
    "            {'type': 'eq', 'fun': lambda x:  np.sum(x) - 1})\n",
    "    res = sco.minimize(min_func_port, [noa * [1. / noa,]], method='SLSQP',  \n",
    "                       bounds=bnds, constraints=cons)\n",
    "    tvols.append(res['fun'])\n",
    "    ef_we.append(res['x'].round(3))\n",
    "       \n",
    "tvols = np.array(tvols)\n",
    "\n",
    "ind = np.argmin(tvols)\n",
    "tvols = tvols[ind:]\n",
    "trets = trets[ind:]"
   ]
  },
  {
   "cell_type": "code",
   "execution_count": null,
   "metadata": {
    "scrolled": false
   },
   "outputs": [],
   "source": [
    "fig = plt.figure(figsize = (22,9))          \n",
    "plt.scatter(pvar, pmean, marker='o', lw = 0.1, alpha = 0.8, c = pmean/np.sqrt(pvar))\n",
    "plt.scatter(tvols, trets, c = 'deeppink', marker='o', label='Efficient frontier', lw = 2)\n",
    "x = np.linspace(0.0, 5)\n",
    "\n",
    "plt.grid(True)\n",
    "plt.title('Efficient frontier of a portfolio with three assets', fontsize = 15)\n",
    "plt.xlabel('Variance', fontsize = 12)\n",
    "plt.ylabel('Mean', fontsize = 12)\n",
    "plt.colorbar(label = 'Sharpe ratio')\n",
    "plt.legend(loc='best', fontsize = 12)"
   ]
  },
  {
   "cell_type": "markdown",
   "metadata": {},
   "source": [
    "## Real data\n",
    "\n",
    "Let's apply the theory to some real assets.\n",
    "\n",
    "https://pypi.org/project/yfinance/\n",
    "\n",
    "We will use diferent funds to represent different kinds of investments: Gold, Treasury Bonds, Corporate Bonds, Stocks, Real Estate, Currencies."
   ]
  },
  {
   "cell_type": "code",
   "execution_count": 4,
   "metadata": {},
   "outputs": [
    {
     "data": {
      "text/html": [
       "<div>\n",
       "<style scoped>\n",
       "    .dataframe tbody tr th:only-of-type {\n",
       "        vertical-align: middle;\n",
       "    }\n",
       "\n",
       "    .dataframe tbody tr th {\n",
       "        vertical-align: top;\n",
       "    }\n",
       "\n",
       "    .dataframe thead th {\n",
       "        text-align: right;\n",
       "    }\n",
       "</style>\n",
       "<table border=\"1\" class=\"dataframe\">\n",
       "  <thead>\n",
       "    <tr style=\"text-align: right;\">\n",
       "      <th></th>\n",
       "      <th>IAU</th>\n",
       "      <th>TLH</th>\n",
       "      <th>LQD</th>\n",
       "      <th>HYG</th>\n",
       "      <th>^GSPC</th>\n",
       "      <th>VALE</th>\n",
       "      <th>EEM</th>\n",
       "      <th>VNQ</th>\n",
       "      <th>RCL</th>\n",
       "      <th>EURUSD=X</th>\n",
       "    </tr>\n",
       "  </thead>\n",
       "  <tbody>\n",
       "  </tbody>\n",
       "</table>\n",
       "</div>"
      ],
      "text/plain": [
       "Empty DataFrame\n",
       "Columns: [IAU, TLH, LQD, HYG, ^GSPC, VALE, EEM, VNQ, RCL, EURUSD=X]\n",
       "Index: []"
      ]
     },
     "execution_count": 4,
     "metadata": {},
     "output_type": "execute_result"
    }
   ],
   "source": [
    "tickers_funds =['IAU','TLH','LQD','HYG','^GSPC','VALE','EEM','VNQ','RCL','EURUSD=X']\n",
    "data = pd.DataFrame(columns=tickers_funds)\n",
    "data"
   ]
  },
  {
   "cell_type": "code",
   "execution_count": null,
   "metadata": {},
   "outputs": [],
   "source": [
    "a = yf.download('RCL', period='1y')['Adj Close']"
   ]
  },
  {
   "cell_type": "code",
   "execution_count": null,
   "metadata": {
    "scrolled": true
   },
   "outputs": [],
   "source": [
    "a"
   ]
  },
  {
   "cell_type": "code",
   "execution_count": null,
   "metadata": {},
   "outputs": [],
   "source": [
    "data"
   ]
  },
  {
   "cell_type": "code",
   "execution_count": 5,
   "metadata": {
    "scrolled": false
   },
   "outputs": [
    {
     "name": "stdout",
     "output_type": "stream",
     "text": [
      "[*********************100%***********************]  1 of 1 completed\n",
      "[*********************100%***********************]  1 of 1 completed\n",
      "[*********************100%***********************]  1 of 1 completed\n",
      "[*********************100%***********************]  1 of 1 completed\n",
      "[*********************100%***********************]  1 of 1 completed\n",
      "[*********************100%***********************]  1 of 1 completed\n",
      "[*********************100%***********************]  1 of 1 completed\n",
      "[*********************100%***********************]  1 of 1 completed\n",
      "[*********************100%***********************]  1 of 1 completed\n",
      "[*********************100%***********************]  1 of 1 completed\n"
     ]
    }
   ],
   "source": [
    "#tickers_funds =['IAU','TLH','LQD','HYG','^GSPC','EFA','EEM','VNQ','DX-Y.NYB','EURUSD=X']\n",
    "\n",
    "#data = pd.DataFrame(columns=tickers_funds)\n",
    "\n",
    "for ticker in tickers_funds:\n",
    "    data[ticker] = yf.download(ticker, period='10y')['Adj Close'] #https://pypi.org/project/yfinance/\n",
    "    \n"
   ]
  },
  {
   "cell_type": "code",
   "execution_count": null,
   "metadata": {},
   "outputs": [],
   "source": [
    "data.tail()"
   ]
  },
  {
   "cell_type": "code",
   "execution_count": 6,
   "metadata": {},
   "outputs": [],
   "source": [
    "tickers_labels = ['Gold','iShares US Treas 10y-20y','iShares IG Corp',\n",
    "                  'iShares HY Corp','S&P 500','VALE','iShares MSCI EM',\n",
    "                  'Vanguard Real Estate Index', 'Royal Caribbean','EURUSD=X']\n",
    "\n",
    "data.columns = tickers_labels\n",
    "data = data.dropna()"
   ]
  },
  {
   "cell_type": "code",
   "execution_count": null,
   "metadata": {},
   "outputs": [],
   "source": [
    "data.head()"
   ]
  },
  {
   "cell_type": "code",
   "execution_count": null,
   "metadata": {},
   "outputs": [],
   "source": [
    "data.head(3)"
   ]
  },
  {
   "cell_type": "markdown",
   "metadata": {},
   "source": [
    "Since time series start at rather different absolute value, we can show them in direct comparision by normalizing them to a starting value of 100:"
   ]
  },
  {
   "cell_type": "code",
   "execution_count": null,
   "metadata": {},
   "outputs": [],
   "source": [
    "data/ data.iloc[0] * 100"
   ]
  },
  {
   "cell_type": "code",
   "execution_count": null,
   "metadata": {},
   "outputs": [],
   "source": [
    "fig = px.line(data/ data.iloc[0] * 100)\n",
    "fig.update_layout( title= \"Last 10 years assets performance\",\n",
    "            xaxis_title=\"Date\",\n",
    "            yaxis_title=\"Value\",\n",
    "            font=dict(\n",
    "                family=\"Arial, monospace\",\n",
    "                size=12,\n",
    "                color=\"black\"\n",
    "            ))\n",
    "fig.show()"
   ]
  },
  {
   "cell_type": "markdown",
   "metadata": {},
   "source": [
    "## Why using returns instead of prices?\n",
    "\n",
    "Time series analysis requires a very important condition to hold: **stationarity**. We will not enter into a deep discussion about the concept, but what you should know is that this condition ensures that the parameters of the random variable under study do not change over time. Stationarity is so important because it enables one to make inference concerning futures observations.\n",
    "\n",
    "Let's take a quick look at one of the above prices."
   ]
  },
  {
   "cell_type": "code",
   "execution_count": null,
   "metadata": {},
   "outputs": [],
   "source": [
    "fig = plt.figure(figsize = (22,9))\n",
    "plt.plot(data['S&P 500'], label = 'S&P 500')\n",
    "plt.axhline(data['S&P 500'].mean(), label = 'S&P 500 mean', color= 'red')\n",
    "plt.legend(loc = 'best')\n",
    "plt.autoscale(axis = 'x', tight = True)\n",
    "plt.grid(True)"
   ]
  },
  {
   "cell_type": "markdown",
   "metadata": {},
   "source": [
    "Note that the mean does not look representative of all the data. This is so because prices are not stationary, and the lack of stationarity invalidates all statistical analysis.\n",
    "\n",
    "How do we fix that? Using retuns."
   ]
  },
  {
   "cell_type": "markdown",
   "metadata": {},
   "source": [
    "We can calculate returns as  $R_t =  (P_t / P_{t-1})-1$."
   ]
  },
  {
   "cell_type": "code",
   "execution_count": null,
   "metadata": {},
   "outputs": [],
   "source": [
    "Ret_data = data.pct_change().round(4).dropna()\n",
    "Ret_data"
   ]
  },
  {
   "cell_type": "code",
   "execution_count": null,
   "metadata": {},
   "outputs": [],
   "source": [
    "fig = plt.figure(figsize = (22,9))\n",
    "plt.plot(Ret_data['S&P 500'], label = 'S&P 500 returns', alpha = 0.8)\n",
    "plt.axhline(Ret_data['S&P 500'].mean(), label = 'S&P 500 returns mean', color= 'red')\n",
    "plt.legend(loc = 'best')\n",
    "plt.autoscale(axis = 'x', tight = True)\n",
    "plt.grid(True)"
   ]
  },
  {
   "cell_type": "markdown",
   "metadata": {},
   "source": [
    "Now it looks like it has a constant mean.\n",
    "\n",
    "Besides, we can analyse if they can be considered as normally distributed by observing their histograms and some other statistics, particularly Skewness and Kurtosis."
   ]
  },
  {
   "cell_type": "code",
   "execution_count": null,
   "metadata": {},
   "outputs": [],
   "source": [
    "Ret_data.columns[9]"
   ]
  },
  {
   "cell_type": "code",
   "execution_count": null,
   "metadata": {},
   "outputs": [],
   "source": [
    "fig = plt.figure(figsize = (22,12))\n",
    "for i in range(len(Ret_data.columns)):\n",
    "    plt.subplot(4,3,i+1)\n",
    "    plt.hist(Ret_data[Ret_data.columns[i]], bins = 50, range = (-0.15, 0.15))\n",
    "    plt.title(Ret_data.columns[i])\n",
    "    plt.grid(True)\n",
    "plt.tight_layout(pad=3.0)"
   ]
  },
  {
   "cell_type": "code",
   "execution_count": null,
   "metadata": {},
   "outputs": [],
   "source": [
    "def print_statistics(array):\n",
    "    ''' Prints selected statistics.\n",
    "    \n",
    "    Parameters\n",
    "    ==========\n",
    "    array: ndarray object to generate statistics on\n",
    "    '''\n",
    "    sta = scs.describe(array)\n",
    "    print(\"%14s %15s\" % ('statistic', 'value'))\n",
    "    print(30 * \"-\")\n",
    "    print(\"%14s %15.5f\" % ('size', sta[0]))\n",
    "    print(\"%14s %15.5f\" % ('min', sta[1][0]))\n",
    "    print(\"%14s %15.5f\" % ('max', sta[1][1]))\n",
    "    print(\"%14s %15.5f\" % ('mean', sta[2]))\n",
    "    print(\"%14s %15.5f\" % ('std', np.sqrt(sta[3])))\n",
    "    print(\"%14s %15.5f\" % ('skew', sta[4]))\n",
    "    print(\"%14s %15.5f\" % ('kurtosis', sta[5]))\n",
    "    \n",
    "    \n",
    "def normality_test(array):\n",
    "    \n",
    "    print(\"Skew of data set %14.3f\" % scs.skew(array))\n",
    "    print(\"Skew test p-value %14.3f\" % scs.skewtest(array)[1])\n",
    "    print(\"Kurt of data set %14.3f\" % scs.kurtosis(array))\n",
    "    print(\"Kurt test p-value %14.3f\" % scs.kurtosistest(array)[1])\n",
    "    print(\"Norm test p-value %14.3f\" % scs.normaltest(array)[1])"
   ]
  },
  {
   "cell_type": "code",
   "execution_count": null,
   "metadata": {},
   "outputs": [],
   "source": [
    "tickers_labels"
   ]
  },
  {
   "cell_type": "code",
   "execution_count": null,
   "metadata": {
    "scrolled": true
   },
   "outputs": [],
   "source": [
    "for ticker in tickers_labels:\n",
    "    print(\"\\nResults for symbol: %s\" % ticker)\n",
    "    print(30 * \"-\")\n",
    "    returns = np.array(Ret_data[ticker])\n",
    "    print_statistics(returns)"
   ]
  },
  {
   "cell_type": "markdown",
   "metadata": {},
   "source": [
    " The kurtosis values seem to be especially far from normal for all four data sets. We can also perform some normality tests."
   ]
  },
  {
   "cell_type": "code",
   "execution_count": null,
   "metadata": {
    "scrolled": true
   },
   "outputs": [],
   "source": [
    "for ticker in tickers_labels:\n",
    "    print(\"\\nResults for symbol %s\" % ticker)\n",
    "    print(30 * \"-\")\n",
    "    returns = np.array(Ret_data[ticker])\n",
    "    normality_test(returns)"
   ]
  },
  {
   "cell_type": "markdown",
   "metadata": {},
   "source": [
    " The above tests have normality as null hypothesis. Thus, normality is rejected for all of our data sets."
   ]
  },
  {
   "cell_type": "markdown",
   "metadata": {},
   "source": [
    "We can also study normality by generating normal random variables with mean and standard deviation equal to those of our sample data and comparing the theoretical distribution with the observed one.\n",
    "\n",
    "Let's perform that excercise for the iShares HY Corp serie, which has a mean of 0.0002 and a standard deviation of 0.00546."
   ]
  },
  {
   "cell_type": "code",
   "execution_count": null,
   "metadata": {},
   "outputs": [],
   "source": [
    "mu, sigma = 0.0002, 0.00546\n",
    "\n",
    "HYCorp_normal = np.random.normal(mu, sigma, 2490)"
   ]
  },
  {
   "cell_type": "code",
   "execution_count": null,
   "metadata": {},
   "outputs": [],
   "source": [
    "fig = plt.figure(figsize = (15,6))\n",
    "ax = fig.add_subplot(1, 2, 1)\n",
    "\n",
    "sm.qqplot(HYCorp_normal, line = 's', ax = ax)\n",
    "plt.title('QQ-plot of simulated iShares HY Corp')\n",
    "plt.grid(True)\n",
    "\n",
    "ax = fig.add_subplot(1, 2, 2)\n",
    "sm.qqplot(Ret_data['iShares HY Corp'], line = 's', ax = ax)\n",
    "plt.title('QQ-plot of observed iShares HY Corp')\n",
    "plt.grid(True)"
   ]
  },
  {
   "cell_type": "code",
   "execution_count": null,
   "metadata": {},
   "outputs": [],
   "source": [
    "fig = plt.figure(figsize = (15,6))\n",
    "plt.hist(Ret_data['iShares HY Corp'], bins = 50,  label = 'Observed iShares HY Corp', alpha = 0.6)\n",
    "plt.grid(True)\n",
    "plt.hist(HYCorp_normal, bins = 50, label = 'Simulated iShares HY Corp', alpha = 0.8)\n",
    "plt.grid(True)\n",
    "plt.legend(loc = 'center right')\n",
    "plt.title('Histograms of simulated normal data and observed data')"
   ]
  },
  {
   "cell_type": "markdown",
   "metadata": {},
   "source": [
    "Even though normality does not hold, we will asume so in the rest of the analysis. Let's now generate the data we need."
   ]
  },
  {
   "cell_type": "code",
   "execution_count": null,
   "metadata": {},
   "outputs": [],
   "source": [
    "#noa = number of assets\n",
    "\n",
    "noa = len(tickers_labels)\n",
    "rets = data.pct_change().round(4).dropna()\n",
    "rets_mean = rets.mean() * 252\n",
    "sigma = rets.cov() * 252\n",
    "\n",
    "weights = rand_weights(noa)"
   ]
  },
  {
   "cell_type": "code",
   "execution_count": null,
   "metadata": {},
   "outputs": [],
   "source": [
    "weights = np.zeros((2000,noa))\n",
    "weights"
   ]
  },
  {
   "cell_type": "code",
   "execution_count": null,
   "metadata": {},
   "outputs": [],
   "source": [
    "weights = np.zeros((2000,noa))\n",
    "for i in range(len(weights)):\n",
    "    weights[i] = rand_weights(noa)\n",
    "    \n",
    "pret= portf_mean(weights, rets_mean)\n",
    "pvol = np.sqrt(portf_var(weights, sigma))"
   ]
  },
  {
   "cell_type": "code",
   "execution_count": null,
   "metadata": {},
   "outputs": [],
   "source": [
    "fig = plt.figure(figsize = (22,9))          \n",
    "plt.scatter(pvol, pret, marker= 'o', lw = 0.1, c = pret/pvol)\n",
    "plt.grid(True)\n",
    "plt.title('Mean-variance diagram for possible portfolios', fontsize = 15)\n",
    "plt.xlabel('Standard deviation', fontsize = 12)\n",
    "plt.ylabel('Expected returns', fontsize = 12)\n",
    "plt.colorbar(label = 'Sharpe ratio')"
   ]
  },
  {
   "cell_type": "markdown",
   "metadata": {},
   "source": [
    "## Portfolio Optimizations\n",
    "\n",
    "To make our lives a bit easier, first we have a convenience function giving back the major portfolio statistics for an input weights vector/array.\n",
    "\n",
    "The derivation of the optimal portfolios is a constrained optimization problem for which  we  use  the  function  minimize  from  the  **scipy.optimize**  sublibrary."
   ]
  },
  {
   "cell_type": "code",
   "execution_count": null,
   "metadata": {},
   "outputs": [],
   "source": [
    "def statistics(weights):\n",
    "    '''\n",
    "    Esta funcion nos devuelve el retorno medio (pret), la desviacion estandard (pvol) y Sharpe ratio del portafolio (pret/pvol)\n",
    "    con determinados weights en cada activo.\n",
    "    '''\n",
    "    \n",
    "    weights = np.array(weights) \n",
    "    pret = np.sum(rets_mean * weights)\n",
    "    pvol = np.sqrt(np.dot(weights.T, np.dot(sigma, weights)))\n",
    "    \n",
    "    return np.array([pret, pvol, pret / pvol])"
   ]
  },
  {
   "cell_type": "markdown",
   "metadata": {},
   "source": [
    "The minimization function minimize is quite general and allows for (in)equality constraints and bounds for the parameters. \n",
    "\n",
    "#### Let us start with the maximization of the Sharpe ratio. Formally, we minimize the negative value of the Sharpe ratio:"
   ]
  },
  {
   "cell_type": "code",
   "execution_count": null,
   "metadata": {},
   "outputs": [],
   "source": [
    "def min_func_sharpe(weights):    \n",
    "    '''\n",
    "    Esta funcion nos devuelve el negativo del Sharpe ratio. Por qué negativo? Porque vamos a usar la función 'minimize', \n",
    "     y como queremos maximizar el ratio, tambien podemos minimizar su opuesto.\n",
    "    '''\n",
    "    return -statistics(weights)[2]"
   ]
  },
  {
   "cell_type": "markdown",
   "metadata": {},
   "source": [
    "The constraint is that all parameters (weights) add up to 1. This can be formulated as follows using the conventions of the  minimize function"
   ]
  },
  {
   "cell_type": "code",
   "execution_count": null,
   "metadata": {},
   "outputs": [],
   "source": [
    "cons = ({'type': 'eq', 'fun': lambda x:  np.sum(x) - 1})"
   ]
  },
  {
   "cell_type": "markdown",
   "metadata": {},
   "source": [
    "We also bound the parameter values (weights) to be within 0 and 1. These values are provided to the minimization function as a tuple of tuples in this case:"
   ]
  },
  {
   "cell_type": "code",
   "execution_count": null,
   "metadata": {},
   "outputs": [],
   "source": [
    "tuple((0, 1) for x in range(noa))"
   ]
  },
  {
   "cell_type": "code",
   "execution_count": null,
   "metadata": {},
   "outputs": [],
   "source": [
    "bnds = tuple((0, 1) for x in range(noa))"
   ]
  },
  {
   "cell_type": "markdown",
   "metadata": {},
   "source": [
    "The only input that is missing for a call of the optimization function is a starting parameter list (initial guesses for the weights). We simply use an equal distribution.\n",
    "\n",
    "Calling the function returns not only optimal parameter values, but much more. We store the results in an object we call opts."
   ]
  },
  {
   "cell_type": "code",
   "execution_count": null,
   "metadata": {},
   "outputs": [],
   "source": [
    " 10*[1. / noa]"
   ]
  },
  {
   "cell_type": "code",
   "execution_count": null,
   "metadata": {
    "scrolled": true
   },
   "outputs": [],
   "source": [
    "'''\n",
    "https://docs.scipy.org/doc/scipy-0.18.1/reference/generated/scipy.optimize.minimize.html\n",
    "\n",
    "La funcion minimize tiene como argumento: \n",
    "    *la funcion a minimizar, \n",
    "    *un vector de inicial guesses, \n",
    "    *el algoritmo optimizador, \n",
    "    *los limites de las variables, y \n",
    "    *las restricciones de la optimizacion \n",
    "\n",
    "Buscamos el portafolio con maximo Sharpe ratio\n",
    "'''\n",
    "\n",
    "opts = sco.minimize(min_func_sharpe, noa * [1. / noa], method='SLSQP',bounds=bnds, constraints=cons) \n",
    "\n",
    "print(opts)"
   ]
  },
  {
   "cell_type": "markdown",
   "metadata": {},
   "source": [
    "Our main interest lies in getting the optimal portfolio composition. \n",
    "\n",
    "To this end, we access the results object by providing the key of interest—i.e., x in our case. \n",
    "\n",
    "The optimization yields a portfolio that only consists of three out of the five assets:"
   ]
  },
  {
   "cell_type": "code",
   "execution_count": null,
   "metadata": {},
   "outputs": [],
   "source": [
    "print(tickers_labels)\n",
    "opts['x'].round(3)"
   ]
  },
  {
   "cell_type": "code",
   "execution_count": null,
   "metadata": {},
   "outputs": [],
   "source": [
    "opt_weights = pd.DataFrame(columns = ['Max Sharpe Ratio'], index= tickers_labels)\n",
    "opt_weights['Max Sharpe Ratio'] = opts['x'].round(3)\n",
    "opt_weights"
   ]
  },
  {
   "cell_type": "markdown",
   "metadata": {},
   "source": [
    "Using the portfolio weights from the optimization, the following statistics emerge:"
   ]
  },
  {
   "cell_type": "code",
   "execution_count": null,
   "metadata": {},
   "outputs": [],
   "source": [
    "statistics(noa * [1. / noa]).round(3)"
   ]
  },
  {
   "cell_type": "code",
   "execution_count": null,
   "metadata": {},
   "outputs": [],
   "source": [
    "statistics(opts['x']).round(3)"
   ]
  },
  {
   "cell_type": "code",
   "execution_count": null,
   "metadata": {},
   "outputs": [],
   "source": [
    "plt.figure(figsize=(22,9))\n",
    "\n",
    "# random portfolio composition\n",
    "plt.scatter(pvol, pret, marker= 'o', lw = 0.1, c = pret/pvol, edgecolors='w')\n",
    "\n",
    "# portfolio with highest Sharpe ratio\n",
    "\n",
    "plt.plot(statistics(opts['x'])[1], statistics(opts['x'])[0],'g*', markersize=25.0, label='Highest Sharpe ratio portfolio')\n",
    "\n",
    "\n",
    "plt.grid(True)\n",
    "plt.title('Mean-variance diagram for possible portfolios', fontsize = 15)\n",
    "plt.xlabel('Standard deviation', fontsize = 12)\n",
    "plt.ylabel('Expected returns', fontsize = 12)\n",
    "plt.colorbar(label='Sharpe ratio')\n",
    "plt.legend(fontsize=12, loc = 'best')"
   ]
  },
  {
   "cell_type": "markdown",
   "metadata": {},
   "source": [
    "#### Next, let us minimize the variance of the portfolio."
   ]
  },
  {
   "cell_type": "code",
   "execution_count": null,
   "metadata": {},
   "outputs": [],
   "source": [
    "def min_func_variance(weights):   \n",
    "    '''\n",
    "    Esta funcion nos devuelve la varianza\n",
    "    \n",
    "    '''\n",
    "    return statistics(weights)[1]**2"
   ]
  },
  {
   "cell_type": "code",
   "execution_count": null,
   "metadata": {
    "scrolled": true
   },
   "outputs": [],
   "source": [
    "'''\n",
    "Buscamos el portafolio con minima varianza\n",
    "'''\n",
    "\n",
    "optv = sco.minimize(min_func_variance, noa * [1. / noa,],method='SLSQP', bounds=bnds,constraints=cons)\n",
    "print(tickers_labels)\n",
    "optv['x'].round(3)"
   ]
  },
  {
   "cell_type": "code",
   "execution_count": null,
   "metadata": {},
   "outputs": [],
   "source": [
    "opt_weights['Min Variance'] = optv['x'].round(3)\n",
    "opt_weights"
   ]
  },
  {
   "cell_type": "markdown",
   "metadata": {},
   "source": [
    "We can further add two other possible portfolios: **a risky one (Equity Mixed), and a more conservative one (Fixed Income Mixed)**"
   ]
  },
  {
   "cell_type": "code",
   "execution_count": null,
   "metadata": {},
   "outputs": [],
   "source": [
    "np.array(noa * [1. / noa])"
   ]
  },
  {
   "cell_type": "code",
   "execution_count": null,
   "metadata": {},
   "outputs": [],
   "source": [
    "print(tickers_labels)\n",
    "w = np.array(noa * [1. / noa])\n",
    "w1 = np.array([0.00, 0.34, 0.33, 0.33, 0.00, 0.00, 0.00, 0.00, 0.00, 0.00])\n",
    "print(np.sum(w))\n",
    "print(np.sum(w1))\n",
    "\n",
    "ms_prets = np.sum(rets.mean() * w) * 252\n",
    "ms_prets1 = np.sum(rets.mean() * w1) * 252\n",
    "\n",
    "ms_vols = np.sqrt(np.dot(w.T, np.dot(rets.cov() * 252, w)))\n",
    "ms_vols1 = np.sqrt(np.dot(w1.T, np.dot(rets.cov() * 252, w1)))"
   ]
  },
  {
   "cell_type": "code",
   "execution_count": null,
   "metadata": {},
   "outputs": [],
   "source": [
    "opt_weights['Naive'] = w\n",
    "opt_weights['Fixed Income'] = w1\n",
    "\n",
    "opt_weights"
   ]
  },
  {
   "cell_type": "code",
   "execution_count": null,
   "metadata": {},
   "outputs": [],
   "source": [
    "plt.figure(figsize=(22,9))\n",
    "\n",
    "# random portfolio composition\n",
    "plt.scatter(pvol, pret, marker= 'o', lw = 0.1, c = pret/pvol, edgecolors='w')\n",
    "\n",
    "# portfolio with highest Sharpe ratio\n",
    "\n",
    "plt.plot(statistics(opts['x'])[1], statistics(opts['x'])[0],'g*', markersize=25.0, label='Highest Sharpe ratio portfolio')\n",
    "\n",
    "# minimum variance portfolio\n",
    "plt.plot(statistics(optv['x'])[1], statistics(optv['x'])[0],'y*', markersize=25.0, label='Minimum variance portfolio')\n",
    "\n",
    "\n",
    "plt.scatter(ms_vols, ms_prets, c='red', s=150, marker='o',label='Naive portfolio', edgecolors='black')\n",
    "plt.scatter(ms_vols1, ms_prets1, c='lime', s=150, marker='o',label='Fixed Income', edgecolors='black')\n",
    "\n",
    "plt.grid(True)\n",
    "plt.title('Mean-variance diagram for possible portfolios', fontsize = 15)\n",
    "plt.xlabel('Standard deviation', fontsize = 12)\n",
    "plt.ylabel('Expected returns', fontsize = 12)\n",
    "plt.colorbar(label='Sharpe ratio')\n",
    "plt.legend(fontsize=12, loc = 'best')"
   ]
  },
  {
   "cell_type": "markdown",
   "metadata": {},
   "source": [
    "## Efficient frontier\n",
    "\n",
    "The derivation of all optimal portfolios—i.e., all portfolios with minimum volatility for a given **target return level** (or all portfolios with maximum return for a given risk level)\n",
    "—is similar to the previous optimizations. \n",
    "\n",
    "The only difference is that we have to iterate over multiple starting conditions. \n",
    "\n",
    "The approach we take is that we fix a target return level and derive for each such level those portfolio weights that lead to the minimum volatility value. \n",
    "\n",
    "For the optimization, this leads to two conditions: \n",
    "+ one for the target return level  *tret*,\n",
    "+ and one for the sum of the portfolio weights as before.\n",
    "\n",
    "The boundary values for each parameter stay the same.\n",
    "\n",
    "For clarity, we define a dedicated function min_func for use in the minimization procedure. It merely returns the volatility value from the  statistics function."
   ]
  },
  {
   "cell_type": "code",
   "execution_count": null,
   "metadata": {},
   "outputs": [],
   "source": [
    "con1 = {'type': 'eq', 'fun': lambda x:  statistics(x)[0] - tret}\n",
    "con2 = {'type': 'eq', 'fun': lambda x:  np.sum(x) - 1}\n",
    "bnds = tuple((0, 1) for x in range(noa))\n",
    "\n",
    "def min_func_port(w):\n",
    "    '''\n",
    "    Devuelve la desviacion estandar\n",
    "    '''  \n",
    "    return statistics(w)[1]"
   ]
  },
  {
   "cell_type": "code",
   "execution_count": null,
   "metadata": {},
   "outputs": [],
   "source": [
    "np.linspace(0.0025, 0.105, 100)"
   ]
  },
  {
   "cell_type": "code",
   "execution_count": null,
   "metadata": {},
   "outputs": [],
   "source": [
    "'''En el diagrama volatilidad - retornos esperados, trets seria el eje vertical. \n",
    "Para cada valor de retorno esperado, queremos hallar la minima volatilidad.'''\n",
    "\n",
    "trets = np.linspace(0.0025, 0.175, 100)\n",
    "tvols = []\n",
    "\n",
    "ef_we = []\n",
    "\n",
    "'''\n",
    "Llevamos a cabo la minimizacion reiteradas veces, para cada valor en trets, buscamos la mínima varianza. \n",
    "    tvols guarda la minima volatilidad para cada tret\n",
    "    ef_we guarda los weights optimos para cada par (tret, tvol)\n",
    "'''\n",
    "\n",
    "for tret in trets:\n",
    "    cons = ({'type': 'eq', 'fun': lambda x:  statistics(x)[0] - tret}, {'type': 'eq', 'fun': lambda x:  np.sum(x) - 1})\n",
    "    res = sco.minimize(min_func_port, noa * [1. / noa,], method='SLSQP',  bounds=bnds, constraints=cons)\n",
    "    tvols.append(res['fun'])\n",
    "    ef_we.append(res['x'].round(3))\n",
    "       \n",
    "tvols = np.array(tvols)\n",
    "\n",
    "ind = np.argmin(tvols) # Solo nos importa la parte eficiente de la frontera\n",
    "tvols = tvols[ind:]\n",
    "trets = trets[ind:]"
   ]
  },
  {
   "cell_type": "code",
   "execution_count": null,
   "metadata": {},
   "outputs": [],
   "source": [
    "ef_w = pd.DataFrame(ef_we,columns=tickers_labels)\n",
    "ef_w.head()"
   ]
  },
  {
   "cell_type": "code",
   "execution_count": null,
   "metadata": {},
   "outputs": [],
   "source": [
    "plt.figure(figsize=(22,9))\n",
    "\n",
    "# random portfolio composition\n",
    "plt.scatter(pvol, pret, marker= 'o', lw = 0.1, c = pret/pvol, edgecolors='w')\n",
    "\n",
    "# efficient frontier\n",
    "plt.scatter(tvols, trets, c = 'deeppink', marker='x', label='Efficient frontier', edgecolors='black')\n",
    "\n",
    "# portfolio with highest Sharpe ratio\n",
    "\n",
    "plt.plot(statistics(opts['x'])[1], statistics(opts['x'])[0],'g*', markersize=25.0, label='Highest Sharpe ratio portfolio')\n",
    "\n",
    "# minimum variance portfolio\n",
    "plt.plot(statistics(optv['x'])[1], statistics(optv['x'])[0],'y*', markersize=25.0, label='Minimum variance portfolio')\n",
    "\n",
    "\n",
    "plt.scatter(ms_vols, ms_prets, c='red', s=150, marker='o',label='Risky portfolio', edgecolors='black')\n",
    "plt.scatter(ms_vols1, ms_prets1, c='lime', s=150, marker='o',label='Conservative portfolio', edgecolors='black')\n",
    "\n",
    "plt.grid(True)\n",
    "plt.title('Minimum risk portfolios for given return level', fontsize = 15)\n",
    "plt.xlabel('Standard deviation', fontsize = 12)\n",
    "plt.ylabel('Expected returns', fontsize = 12)\n",
    "plt.colorbar(label='Sharpe ratio')\n",
    "plt.legend(fontsize=12, loc = 'best')"
   ]
  },
  {
   "cell_type": "markdown",
   "metadata": {},
   "source": [
    "Note that the point cloud does not aproach much to the efficient frontier. \n",
    "\n",
    "That's because the optimal weights that generate the frontier are extreme weights, i.e. combination of only few assets. \n",
    "\n",
    "This is hardly randomly generated. Thus, we are goinig to create those extreme weights in order to expand the cloud pf pairs values.\n",
    "\n",
    "#### Extreme Weights:\n",
    "\n",
    "#### 1. Weights on only a few assets: multiplying the generated weights by a vector of 0 and 1 (and normalizing)\n",
    "\n",
    "#### 2. Weight on only one asset: identity matrix\n",
    "\n",
    "#### 3. Optimal weights"
   ]
  },
  {
   "cell_type": "code",
   "execution_count": null,
   "metadata": {},
   "outputs": [],
   "source": [
    "rand_weights(noa)*np.random.randint(2, size=(noa))"
   ]
  },
  {
   "cell_type": "code",
   "execution_count": null,
   "metadata": {},
   "outputs": [],
   "source": [
    "def extreme_weights(noa):\n",
    "    \n",
    "    '''\n",
    "    Una forma de crear weights extremos es conseguir un vector de peso en donde algunos activos\n",
    "    tengan w=0. Para eso usamos random.randint(0,2) que devuelve un vector de 0 y 1.\n",
    "    '''\n",
    "    \n",
    "    ew = rand_weights(noa)*np.random.randint(2, size=(noa))\n",
    "    np.seterr(divide='ignore', invalid='ignore')\n",
    "    \n",
    "    return ew / sum(ew)"
   ]
  },
  {
   "cell_type": "code",
   "execution_count": null,
   "metadata": {},
   "outputs": [],
   "source": [
    "# Generamos 10000 de esos pesos extremos\n",
    "ex_weights = np.zeros((10000,noa))\n",
    "\n",
    "for i in range(len(ex_weights)):\n",
    "    ex_weights[i] = extreme_weights(noa)"
   ]
  },
  {
   "cell_type": "code",
   "execution_count": null,
   "metadata": {
    "scrolled": false
   },
   "outputs": [],
   "source": [
    "new_weights = np.concatenate((weights, ex_weights, np.identity(noa), ef_we))"
   ]
  },
  {
   "cell_type": "code",
   "execution_count": null,
   "metadata": {},
   "outputs": [],
   "source": [
    "pret= portf_mean(new_weights, rets_mean)\n",
    "pvol = np.sqrt(portf_var(new_weights, sigma))"
   ]
  },
  {
   "cell_type": "code",
   "execution_count": null,
   "metadata": {
    "scrolled": false
   },
   "outputs": [],
   "source": [
    "plt.figure(figsize=(22,9))\n",
    "\n",
    "# random portfolio composition\n",
    "plt.scatter(pvol, pret, marker= 'o', lw = 0.1, c = pret/pvol, edgecolors='w')\n",
    "\n",
    "# efficient frontier\n",
    "plt.scatter(tvols, trets, c = 'deeppink', marker='x', label='Efficient frontier', edgecolors='black')\n",
    "\n",
    "# portfolio with highest Sharpe ratio\n",
    "\n",
    "plt.plot(statistics(opts['x'])[1], statistics(opts['x'])[0],'g*', markersize=25.0, label='Highest Sharpe ratio portfolio')\n",
    "\n",
    "# minimum variance portfolio\n",
    "plt.plot(statistics(optv['x'])[1], statistics(optv['x'])[0],'y*', markersize=25.0, label='Minimum variance portfolio')\n",
    "\n",
    "\n",
    "plt.scatter(ms_vols, ms_prets, c='red', s=150, marker='o',label='Risky portfolio (equity mixed)', edgecolors='black')\n",
    "plt.scatter(ms_vols1, ms_prets1, c='lime', s=150, marker='o',label='Conservative portfolio (fixed income mixed)', edgecolors='black')\n",
    "\n",
    "plt.grid(True)\n",
    "plt.title('Minimum risk portfolios for given return level', fontsize = 15)\n",
    "plt.xlabel('Standard deviation', fontsize = 12)\n",
    "plt.ylabel('Expected returns', fontsize = 12)\n",
    "plt.colorbar(label='Sharpe ratio')\n",
    "plt.legend(fontsize=12, loc = 'lower right')"
   ]
  },
  {
   "cell_type": "markdown",
   "metadata": {},
   "source": [
    "## Capital Market Line\n",
    "\n",
    "In addition to risky securities like stocks or commodities, there is in general one universal riskless investment opportunity available: *cash or cash accounts*.\n",
    "\n",
    "In an idealized world, money held in a cash account with a large bank can be considered riskless (e.g., through public deposit insurance schemes). \n",
    "\n",
    "The downside is that such a riskless investment generally yields only a small return, sometimes close to zero.\n",
    "\n",
    "However, taking into account such a riskless asset enhances the efficient investment opportunity set for investors considerably. \n",
    "\n",
    "The basic idea is that investors first determine an efficient portfolio of risky assets and then add the riskless asset to the mix. \n",
    "\n",
    "By adjusting the proportion of the investor’s wealth to be invested in the riskless asset it is possible to achieve any risk-return profile that lies on the straight line (in the risk-return space) between the riskless asset and the efficient portfolio.\n",
    "\n",
    "Let's now assume that the investors porfolio is formed with a proportion $p$ of risky assets which yields a return $R_x$ and $(1-p)$ of the riskless asset whose return $R_f$ is not a random variable. The new porfolio characteristics will then be:\n",
    "\n",
    "$$ R_p = pR_x + (1 - p)R_f $$\n",
    "\n",
    "$$ E(R_p) = p E(R_x) + (1-p)R_f = R_f + (E(R_x) - R_f)p$$\n",
    "\n",
    "$$ \\sigma^2_p = p^2\\sigma^2_x$$\n",
    "\n",
    "Thus **the market line** will be:\n",
    "\n",
    "$$ E(R_p) = R_f +\\dfrac{(E(R_x) -R_f)}{\\sigma_x}\\sigma_p$$\n",
    "$$ E(R_p) = R_f +S_x \\sigma_p$$\n",
    "\n",
    "The investor may combine the risk-free asset with any portfolio of risky asset available, which gives rise to many straight lines in the mean-variance diagram. \n",
    "\n",
    "But among all the efficient portfolios, all investor will choose one that achieves the best mean-variance pair, that is the **tangency porfolio**. \n",
    "\n",
    "That portfolio is the one that maximizes the Sharpe Ratio.\n",
    "\n",
    "In order to find the market line we need to carry a spline interpolation of the efficient frontier. The following code selects exactly these portfolios from our previously used sets tvols and trets."
   ]
  },
  {
   "cell_type": "code",
   "execution_count": null,
   "metadata": {},
   "outputs": [],
   "source": [
    "ind = np.argmin(tvols)\n",
    "evols = tvols[ind:]\n",
    "erets = trets[ind:]"
   ]
  },
  {
   "cell_type": "markdown",
   "metadata": {},
   "source": [
    "The new ndarray objects *evols* and *erets* are used for the interpolation:"
   ]
  },
  {
   "cell_type": "code",
   "execution_count": null,
   "metadata": {},
   "outputs": [],
   "source": [
    "tck = sci.splrep(evols, erets)"
   ]
  },
  {
   "cell_type": "markdown",
   "metadata": {},
   "source": [
    "Via this numerical route we end up being able to define a continuos function f(x) for the efficient frontier:\n",
    "\n",
    "https://docs.scipy.org/doc/scipy/reference/generated/scipy.interpolate.splev.html"
   ]
  },
  {
   "cell_type": "code",
   "execution_count": null,
   "metadata": {},
   "outputs": [],
   "source": [
    "def g(x):\n",
    "    '''\n",
    "    Funcion de la frontera eficiente (splines approximation) \n",
    "    g(x) devuelve un vector de valores que representan la funcion evaluada en los puntos x\n",
    "    '''\n",
    "    return sci.splev(x, tck, der = 0)"
   ]
  },
  {
   "cell_type": "code",
   "execution_count": null,
   "metadata": {},
   "outputs": [],
   "source": [
    "#Supongamos una risk free rate de 0.01\n",
    "Rf = 0.01\n",
    "\n",
    "# Encontramos el Sharpe ratio para cada par (volatilidad, retorno esperado)\n",
    "Sp = []\n",
    "for sigma, mu in zip(evols, erets):\n",
    "     Sp.append((mu - Rf)/sigma)"
   ]
  },
  {
   "cell_type": "code",
   "execution_count": null,
   "metadata": {},
   "outputs": [],
   "source": [
    "# La capital market line es la linea que parte de la tasa libre de riesgo y es tangente a la frontera eficiente. \n",
    "# La pendiente de la linea tangente es el maximo Sharpe ratio.\n",
    "\n",
    "# La definimos asi siguiendo esa definicion:\n",
    "\n",
    "sigma_T = np.linspace(0.0, 0.10)\n",
    "E_T = Rf + max(Sp)*sigma_T\n",
    "\n",
    "TP = np.argmax((erets-Rf)/evols) #Indice del portafolio de tangencia"
   ]
  },
  {
   "cell_type": "code",
   "execution_count": null,
   "metadata": {},
   "outputs": [],
   "source": [
    "plt.figure(figsize=(22,9))\n",
    "\n",
    "# random portfolio composition\n",
    "plt.scatter(pvol, pret, marker= 'o', lw = 0.1, c = (pret-Rf)/pvol, edgecolors='w')\n",
    "\n",
    "# efficient frontier\n",
    "plt.plot(evols, erets, 'deeppink', lw=4, label='Efficient frontier')\n",
    "\n",
    "# capital market line\n",
    "plt.plot(sigma_T, E_T, lw = 3, label= 'Capital Market Line')\n",
    "\n",
    "# tangency portfolio\n",
    "plt.plot(evols[TP], erets[TP], 'y*', markersize=25.0, label='Tangency portfolio')\n",
    "\n",
    "# risk free rate\n",
    "plt.text(-0.006, Rf, 'Rf', fontsize = 15)\n",
    "\n",
    "plt.grid(True)\n",
    "plt.axhline(0, color='k', ls='--', lw=2.0)\n",
    "plt.axvline(0, color='k', ls='--', lw=2.0)\n",
    "plt.xlabel('Standard deviation', fontsize = 12)\n",
    "plt.ylabel('Expected return', fontsize = 12)\n",
    "plt.colorbar(label='Sharpe ratio')\n",
    "plt.legend(fontsize=14)\n",
    "plt.title('Capital market line and tangency portfolio', fontsize = 15)"
   ]
  },
  {
   "cell_type": "markdown",
   "metadata": {},
   "source": [
    "The portfolio weights of the tangent portfolio are as follows. "
   ]
  },
  {
   "cell_type": "code",
   "execution_count": null,
   "metadata": {},
   "outputs": [],
   "source": [
    "cons = ({'type': 'eq', 'fun': lambda x:  statistics(x)[0] - erets[TP]}, \n",
    "        {'type': 'eq', 'fun': lambda x:  np.sum(x) - 1})\n",
    "res = sco.minimize(min_func_port, noa * [1. / noa,], method='SLSQP',bounds=bnds, constraints=cons)"
   ]
  },
  {
   "cell_type": "code",
   "execution_count": null,
   "metadata": {
    "scrolled": false
   },
   "outputs": [],
   "source": [
    "keys = tickers_labels\n",
    "values = res['x'].round(4)\n",
    "res = {keys[i]: values[i] for i in range(len(keys))} \n",
    "res"
   ]
  },
  {
   "cell_type": "markdown",
   "metadata": {},
   "source": [
    " "
   ]
  },
  {
   "cell_type": "markdown",
   "metadata": {},
   "source": [
    "# Risk measures\n",
    "---\n",
    "Consider three different type of assets, all with the same volatility and mean, but different distributions (e.g.: normal, uniform, Student-t). Standard mean variance analysis indicates that all three assets are equally risky and preferable because their means and volatilities are the same. However, in reality, market participants view the risk in them quite differently and are likely to have a preference for one of these assets. This suggests that some objective way to compare the risk in assets with different distribution is desirable.\n",
    "\n",
    "Volatility or **standard deviation** is the main measure of risk in most financial analysis, but it **is sufficient as a risk measure only when returns are normally distributed**. However, as discused before, the normality assumption is **violeted for most if not all financial returns**. \n",
    "\n",
    "\n",
    "## Value-at-risk (VaR)\n",
    "\n",
    "The most common risk measure after volatility is **value-at-risk (VaR)**. It is a single summary statistical measure of risk, it is distribution independent and it is a measure of losses as a result of \"typical\" market movements.\n",
    "\n",
    "VaR has become one of the most widely used risk measures, and a much debated one. Loved by practitioners for its intuitive appeal, it is also discussed and criticized by many - mainly on theoretical grounds, with regard to its limited ability to capture what is called *tail risk*.\n",
    "\n",
    "#### Definition: \n",
    "***The loss on a trading portfolio such that there is a probability $p$ of losses equaling or exceeding VaR in a given trading period and a $(1-p)$ probability of losses being lower than the VaR (i.e., the confidence level).***\n",
    "\n",
    "We may write it as $VaR(p)$ or $VaR$ at $100 \\times  p \\%$ to make the dependence on probability explicit. The most common probability levels are 1% or 5%.\n",
    "\n",
    "VaR is a quantile of the distribution of profit and loss (P&L). We indicate P&L on an investment portfolio by the random variable $Q$, with a particular realization indicated by $q$. The density of P/L is denoted by $f_q (.)$. Thus, VaR is given by:\n",
    "\n",
    "$$p = Pr[Q \\leq -VaR(p)]$$\n",
    "\n",
    "or\n",
    "\n",
    "$$p = \\int_{-\\infty}^{-VaR(p)}f_q(x)dx$$\n",
    "\n",
    "We use a minus sign because VaR is a positive number and we are dealing with losses. You should then interpret it as *the probability of losses being larger than VaR*.\n",
    "\n",
    "\n",
    "#### Example:\n",
    "\n",
    "Consider a stock position, worth 1 million USD today, that has a $VaR(0.05)$ (or $VaR$ at $5\\%$) of 10000 USD over a time period of 30 days (one month). This VaR says that the loss to be expected over a period of 30 days can exceed 50,000 USD with probability 0.01. In other words, there is a probability of 0.99 that losses will not exceed that value. \n",
    "However, it does not say anything about the size of the loss once a loss beyond 50,000 USD occurs—i.e., if the maximum loss is 100,000 or 500,000 USD what the probability of such a specific “higher than VaR loss” is. That is what is called the tail risk.\n",
    "\n",
    "<img src='https://upload.wikimedia.org/wikipedia/commons/6/64/VaR_diagram.JPG' width=\"60%\" align=\"center\"/>\n"
   ]
  },
  {
   "cell_type": "markdown",
   "metadata": {},
   "source": [
    "We can study VaR via two methods:\n",
    "\n",
    "1. Historical distribution\n",
    "2. Monte Carlo simulations\n",
    "\n",
    "\n",
    "## 1. Historical distribution \n",
    "\n",
    "The issue here is: what is the probability distibution of P&L of a portfolio? The above discussion was based on the assumption that that distribution was known. Howerever, in practice, one needs to estimate the P&L distribution using historical observations of the asset returns of interest. This historical simulation is a simple method for forecasting risk and relies on the assumption that history repeats itself, where one of the observed past returns is expected to be the next period return.\n",
    "\n",
    "Let's take some of the fund returns we calculated above and calcule the VaR. \n",
    "Suppose we invest 10,000 for 22 days. We are interested in the VaR of a financial position in the S&P 500 and the iShares US Treas 10y-20y fund for 22 days.\n",
    "\n",
    "We use **scs.scoreatpercentile** to get the VaR. **scoreatpercentile(a)** calculates the score at a given percentile of the input sequence **a**."
   ]
  },
  {
   "cell_type": "code",
   "execution_count": 7,
   "metadata": {},
   "outputs": [],
   "source": [
    "initial_investment = 10000\n",
    "investment_horizon = 22\n",
    "SP500_prices = data['S&P 500']\n",
    "US_treas_prices= data['iShares US Treas 10y-20y']"
   ]
  },
  {
   "cell_type": "code",
   "execution_count": 8,
   "metadata": {},
   "outputs": [],
   "source": [
    "SP500_prices1 = SP500_prices[:-investment_horizon]\n",
    "US_treas_prices1 = US_treas_prices[:-investment_horizon]\n",
    "\n",
    "SP500_prices2 = SP500_prices[investment_horizon:]\n",
    "US_treas_prices2 = US_treas_prices[investment_horizon:]"
   ]
  },
  {
   "cell_type": "code",
   "execution_count": 9,
   "metadata": {},
   "outputs": [],
   "source": [
    "SP500 = (SP500_prices2.values/SP500_prices1.values - 1)*initial_investment\n",
    "US_treas = (US_treas_prices2.values/US_treas_prices1.values -1)*initial_investment"
   ]
  },
  {
   "cell_type": "code",
   "execution_count": 10,
   "metadata": {},
   "outputs": [],
   "source": [
    "SP500 = pd.Series(SP500, name = 'S&P 500')\n",
    "US_treas = pd.Series(US_treas, name = 'US Treas 10y-20y')"
   ]
  },
  {
   "cell_type": "code",
   "execution_count": 11,
   "metadata": {},
   "outputs": [],
   "source": [
    "def plot_var(portfolio, p):\n",
    "    '''\n",
    "    Esta función grafica la distribución de P&L y encuentra el VaR para\n",
    "    un nivel p%.\n",
    "    Además, \n",
    "    '''\n",
    "    VaR = scs.scoreatpercentile(portfolio, p)\n",
    "    \n",
    "    fig = plt.figure(figsize = (18,7))\n",
    "     \n",
    "    plt.hist(portfolio, bins = 60)\n",
    "    plt.xlabel('P&L')\n",
    "    plt.ylabel('Frequency')\n",
    "    \n",
    "    plt.axvline(VaR, color='r', linestyle='dashed', linewidth=2, \n",
    "                label = 'VaR at '+str(p)+'% =' +str(round(VaR,2)))\n",
    "    plt.text(VaR- np.std(portfolio), 100, \n",
    "             'p = '+str(p/100), fontsize = 12)\n",
    "    plt.title('Distribution of '+ portfolio.name)\n",
    "    plt.grid(True)\n",
    "    plt.legend(loc='best', fontsize = 12)\n",
    "    ;\n",
    "    return"
   ]
  },
  {
   "cell_type": "code",
   "execution_count": 12,
   "metadata": {},
   "outputs": [
    {
     "data": {
      "image/png": "[encoded data removed]",
      "text/plain": [
       "<Figure size 1296x504 with 1 Axes>"
      ]
     },
     "metadata": {
      "needs_background": "light"
     },
     "output_type": "display_data"
    }
   ],
   "source": [
    "plot_var(SP500, 5)"
   ]
  },
  {
   "cell_type": "code",
   "execution_count": 13,
   "metadata": {
    "scrolled": false
   },
   "outputs": [
    {
     "data": {
      "image/png": "[encoded data removed]",
      "text/plain": [
       "<Figure size 1296x504 with 1 Axes>"
      ]
     },
     "metadata": {
      "needs_background": "light"
     },
     "output_type": "display_data"
    }
   ],
   "source": [
    "plot_var(US_treas, 5)"
   ]
  },
  {
   "cell_type": "markdown",
   "metadata": {},
   "source": [
    "We can also find the VaR for many confidence levels:"
   ]
  },
  {
   "cell_type": "code",
   "execution_count": 14,
   "metadata": {},
   "outputs": [],
   "source": [
    "def value_at_risk(portfolio):\n",
    "    \n",
    "    percs = [0.01, 0.1, 1., 2.5, 5.0, 10.0]\n",
    "    VaR = scs.scoreatpercentile(portfolio, percs)\n",
    "    print(\"%16s %16s\" % ('Confidence Level', 'Value-at-Risk'))\n",
    "    print(33 * \"-\")\n",
    "    for pair in zip(percs, -VaR):\n",
    "        print(\"%11.2f %17.3f\" % (100-pair[0], -pair[1]))\n",
    "    return"
   ]
  },
  {
   "cell_type": "code",
   "execution_count": 15,
   "metadata": {},
   "outputs": [
    {
     "name": "stdout",
     "output_type": "stream",
     "text": [
      "Confidence Level    Value-at-Risk\n",
      "---------------------------------\n",
      "      99.99         -3323.839\n",
      "      99.90         -2922.669\n",
      "      99.00         -1276.706\n",
      "      97.50          -815.775\n",
      "      95.00          -576.139\n",
      "      90.00          -376.820\n"
     ]
    }
   ],
   "source": [
    "value_at_risk(SP500)"
   ]
  },
  {
   "cell_type": "code",
   "execution_count": 16,
   "metadata": {},
   "outputs": [
    {
     "name": "stdout",
     "output_type": "stream",
     "text": [
      "Confidence Level    Value-at-Risk\n",
      "---------------------------------\n",
      "      99.99          -578.958\n",
      "      99.90          -564.705\n",
      "      99.00          -469.077\n",
      "      97.50          -349.106\n",
      "      95.00          -290.718\n",
      "      90.00          -221.976\n"
     ]
    }
   ],
   "source": [
    "value_at_risk(US_treas)"
   ]
  },
  {
   "cell_type": "code",
   "execution_count": 17,
   "metadata": {},
   "outputs": [],
   "source": [
    "percs = np.linspace(0,15)\n",
    "SP500_var = scs.scoreatpercentile(SP500, percs)\n",
    "US_treas_var = scs.scoreatpercentile(US_treas, percs)"
   ]
  },
  {
   "cell_type": "code",
   "execution_count": 18,
   "metadata": {},
   "outputs": [
    {
     "data": {
      "image/png": "[encoded data removed]",
      "text/plain": [
       "<Figure size 1296x432 with 1 Axes>"
      ]
     },
     "metadata": {
      "needs_background": "light"
     },
     "output_type": "display_data"
    }
   ],
   "source": [
    "fig = plt.figure(figsize = (18,6))\n",
    "plt.plot(percs, -SP500_var, lw=2, label='S&P 500', c='r')\n",
    "plt.plot(percs, -US_treas_var, lw=2, label='US Treasury', c='b')\n",
    "plt.legend(loc='best')\n",
    "plt.xlabel('P (%)')\n",
    "plt.ylabel('Value-at-risk')\n",
    "plt.title('Value-at-risk')\n",
    "plt.grid(True)\n",
    "plt.autoscale(enable=True, axis='x', tight=True)"
   ]
  },
  {
   "cell_type": "markdown",
   "metadata": {},
   "source": [
    "For each $p$, VaR of the S&P is always higher than VaR of US Treasuries."
   ]
  },
  {
   "cell_type": "markdown",
   "metadata": {},
   "source": [
    "## 2. Monte Carlo simulations\n",
    "\n",
    "Given the limitations of the above methods, a good replacement for VaR analysis is to perform Monte Carlo (MC) simulations.\n",
    "The idea behind MC simulation is that we replicate market outcomes on the computer, based on some model of the evolution of the market. By doing a sufficient number of simulations, we get a large sample of market outcomes enabling us to calculate accurately some quantities of interests (VaR in this case). The main limitation of this approach is that it is always based on some model and the quality of the results in inevitably limited by the quality of the model.\n",
    "\n",
    "For ilustration purposes, let's generate 3 different returns distributions and see how VaR looks like for each one. The first two -standard normal and Student-t - are the most common one for replicating returns whereas the third one -uniform distributed- is an unusual case."
   ]
  },
  {
   "cell_type": "code",
   "execution_count": 19,
   "metadata": {},
   "outputs": [],
   "source": [
    "# Standard Normal\n",
    "norm = np.random.standard_normal(10000)\n",
    "\n",
    "# Student t\n",
    "t = np.random.standard_t(5,10000)\n",
    "\n",
    "#Uniform\n",
    "unif = np.random.uniform(-1,1,10000)"
   ]
  },
  {
   "cell_type": "code",
   "execution_count": 21,
   "metadata": {},
   "outputs": [
    {
     "data": {
      "text/plain": [
       "''"
      ]
     },
     "execution_count": 21,
     "metadata": {},
     "output_type": "execute_result"
    },
    {
     "data": {
      "image/png": "[encoded data removed]",
      "text/plain": [
       "<Figure size 1584x432 with 3 Axes>"
      ]
     },
     "metadata": {
      "needs_background": "light"
     },
     "output_type": "display_data"
    }
   ],
   "source": [
    "fig = plt.figure(figsize = (22,6))\n",
    "plt.subplot(1,3,1)\n",
    "plt.hist(norm, color = 'blue', bins = 50)\n",
    "plt.title('Standard normal')\n",
    "plt.axvline(scs.scoreatpercentile(norm, 5), color='r', linestyle='dashed', linewidth=3)\n",
    "plt.grid(True)\n",
    "\n",
    "plt.subplot(1,3,2)\n",
    "plt.hist(t, color = 'orange', bins = 50)\n",
    "plt.title('Student-t')\n",
    "plt.axvline(scs.scoreatpercentile(t, 5), color='r', linestyle='dashed', linewidth=3)\n",
    "plt.grid(True)\n",
    "\n",
    "plt.subplot(1,3,3)\n",
    "plt.hist(unif, color = 'green', bins = 50)\n",
    "plt.title('Uniform')\n",
    "plt.axvline(scs.scoreatpercentile(unif, 5), color='r', linestyle='dashed', linewidth=3)\n",
    "plt.grid(True)\n",
    ";"
   ]
  },
  {
   "cell_type": "markdown",
   "metadata": {},
   "source": [
    "Let's now generate daily returns of 3 assets, with the same Stundent-t distribution but with different degrees of freedom (df). As the degrees of freedom increase, fewer extreme observations are obtained.\n",
    "\n",
    "If df $\\rightarrow \\infty$, Student-t $\\rightarrow$ Normal."
   ]
  },
  {
   "cell_type": "code",
   "execution_count": 22,
   "metadata": {},
   "outputs": [],
   "source": [
    "rets1 = np.random.standard_t(5,10000)*22/252\n",
    "rets2 = np.random.standard_t(50,10000)*22/252\n",
    "rets3 = np.random.standard_t(100,10000)*22/252\n",
    "rets = [rets1, rets2, rets3]"
   ]
  },
  {
   "cell_type": "code",
   "execution_count": 23,
   "metadata": {},
   "outputs": [
    {
     "data": {
      "text/plain": [
       "[array([ 0.15821194, -0.05834436,  0.08148091, ..., -0.10451622,\n",
       "        -0.05106018,  0.09127414]),\n",
       " array([-0.02031698, -0.04521717,  0.04023522, ..., -0.14306706,\n",
       "        -0.00613359,  0.12009562]),\n",
       " array([ 0.00481632, -0.16882995, -0.10739391, ...,  0.08601501,\n",
       "         0.06115207,  0.06511701])]"
      ]
     },
     "execution_count": 23,
     "metadata": {},
     "output_type": "execute_result"
    }
   ],
   "source": [
    "rets"
   ]
  },
  {
   "cell_type": "markdown",
   "metadata": {},
   "source": [
    "Let's create a portfolio and calculate the VaR."
   ]
  },
  {
   "cell_type": "code",
   "execution_count": 24,
   "metadata": {},
   "outputs": [],
   "source": [
    "weights = [1/3, 1/3, 1/3]\n",
    "port_rets = np.dot(weights, rets)\n",
    "port_rets = pd.Series(port_rets * initial_investment, name ='simulated portfolio')"
   ]
  },
  {
   "cell_type": "code",
   "execution_count": 25,
   "metadata": {},
   "outputs": [
    {
     "data": {
      "image/png": "[encoded data removed]",
      "text/plain": [
       "<Figure size 1296x504 with 1 Axes>"
      ]
     },
     "metadata": {
      "needs_background": "light"
     },
     "output_type": "display_data"
    }
   ],
   "source": [
    "plot_var(port_rets, 5)"
   ]
  },
  {
   "cell_type": "code",
   "execution_count": 26,
   "metadata": {},
   "outputs": [
    {
     "name": "stdout",
     "output_type": "stream",
     "text": [
      "Confidence Level    Value-at-Risk\n",
      "---------------------------------\n",
      "      99.99         -2471.125\n",
      "      99.90         -1839.701\n",
      "      99.00         -1287.803\n",
      "      97.50         -1081.599\n",
      "      95.00          -894.544\n",
      "      90.00          -691.308\n"
     ]
    }
   ],
   "source": [
    "value_at_risk(port_rets)"
   ]
  },
  {
   "cell_type": "markdown",
   "metadata": {},
   "source": [
    "## Expected shortfall (ES)\n",
    "\n",
    "One of the flaws of the VaR aproach is that it is simply a quantile. In practice, the actual loss, if it occurs, can be grater than Var. In this sense, VaR may understimate the actual loss.\n",
    "The most common alternative risk measure that tries to fill that gap is **expected shortfall** (ES), also known as tail VaR, conditional Value at Risk (CVaR), among others. ES answers the question: *what is expected loss when losses exceed VaR?*\n",
    "\n",
    "####  Definition: \n",
    "*Expected loss conditional on VaR being violated. $ES = -E[Q|Q\\leq-VaR(p)]$*\n",
    "\n",
    "\n",
    "Let's define a function for ES and add it to our previous plots."
   ]
  },
  {
   "cell_type": "code",
   "execution_count": 27,
   "metadata": {},
   "outputs": [],
   "source": [
    "def ES(portfolio, p):\n",
    "    VaR = scs.scoreatpercentile(portfolio, p)\n",
    "    shortfall = portfolio[portfolio<VaR]\n",
    "        \n",
    "    return shortfall.mean()"
   ]
  },
  {
   "cell_type": "code",
   "execution_count": 44,
   "metadata": {},
   "outputs": [
    {
     "data": {
      "text/plain": [
       "20.0"
      ]
     },
     "execution_count": 44,
     "metadata": {},
     "output_type": "execute_result"
    }
   ],
   "source": [
    "mask1 = port_rets < scs.scoreatpercentile(port_rets, 5)\n",
    "10000/len(port_rets[mask1])"
   ]
  },
  {
   "cell_type": "code",
   "execution_count": 55,
   "metadata": {},
   "outputs": [],
   "source": [
    "def plot_var_ES(portfolio, p):\n",
    "    \n",
    "    VaR = scs.scoreatpercentile(portfolio, p)\n",
    "    ExpS = ES(portfolio, p)\n",
    "    \n",
    "    fig = plt.figure(figsize = (18,7))\n",
    "    \n",
    "    mask1 = portfolio < VaR\n",
    "    mask2 = portfolio> VaR\n",
    "    \n",
    "    plt.hist(portfolio[mask2], bins = 60)\n",
    "    plt.hist(portfolio[mask1], bins = 25, color='red')\n",
    "\n",
    "    plt.axvline(VaR, color='r', linestyle='dashed', linewidth=2, \n",
    "                label = 'VaR at 5% ='+ str(round(VaR,2)))\n",
    "    plt.axvline(ExpS, color='green', linestyle='dashdot', linewidth=2, \n",
    "                label = 'Expected shortfall = '+str(round(ES(portfolio,p),2)))\n",
    "    \n",
    "    plt.title('Distribution of '+ portfolio.name)\n",
    "    plt.grid(True)\n",
    "    plt.legend(loc='best', fontsize = 12)\n",
    "    plt.xlabel('P&L')\n",
    "    plt.ylabel('Frequency')\n",
    "    plt.xlim((-3000, 3000))\n",
    "    ;\n",
    "    return"
   ]
  },
  {
   "cell_type": "code",
   "execution_count": 56,
   "metadata": {},
   "outputs": [
    {
     "data": {
      "image/png": "[encoded data removed]",
      "text/plain": [
       "<Figure size 1296x504 with 1 Axes>"
      ]
     },
     "metadata": {
      "needs_background": "light"
     },
     "output_type": "display_data"
    },
    {
     "data": {
      "image/png": "[encoded data removed]",
      "text/plain": [
       "<Figure size 1296x504 with 1 Axes>"
      ]
     },
     "metadata": {
      "needs_background": "light"
     },
     "output_type": "display_data"
    },
    {
     "data": {
      "image/png": "[encoded data removed]",
      "text/plain": [
       "<Figure size 1296x504 with 1 Axes>"
      ]
     },
     "metadata": {
      "needs_background": "light"
     },
     "output_type": "display_data"
    }
   ],
   "source": [
    "plot_var_ES(SP500, 5)\n",
    "plot_var_ES(US_treas, 5)\n",
    "plot_var_ES(port_rets, 5)"
   ]
  },
  {
   "cell_type": "markdown",
   "metadata": {},
   "source": [
    "![title](img/fig_intro.png)"
   ]
  },
  {
   "cell_type": "markdown",
   "metadata": {},
   "source": [
    "# Principal Component Analysis (PCA)\n",
    "\n",
    "----\n",
    "\n",
    "The main idea behind PCA is that a high dimensional system can be approximated to a reasonable degree of accuracy by a system with a smaller number of dimensions by exploiting correlations between the system variables.\n",
    "PCA is a particularly powerfull tool in finance, since it allows to reduce the sources of uncertity of a portfolio consisting in multiple assets onto a fewer number of factors that explains the underlying structure of those assets.\n",
    "\n",
    "\n",
    "## Mathematics behind PCA\n",
    "\n",
    "Principal components are unobserved variables defined as linear combinations of the observed random variables. There is as much PC as observed variables.\n",
    "\n",
    "$$ Y_1 = a_1'X = a_{11}X_1 + a_{12}X_2 + ... + a_{1n}Xn $$\n",
    "\n",
    "$$ Y_2 = a_2'X = a_{21}X_1 + a_{22}X_2 + ... + a_{2n}Xn $$\n",
    "$$ . $$\n",
    "$$ . $$\n",
    "$$ Y_n = a_n'X = a_{n1}X_1 + a_{n2}X_2 + ... + a_{nn}Xn$$\n",
    "\n",
    "By these linear combination we are rotating the original system into a new cordinate system which represents the directions of the maximum variability and provides a more parsimonious description of the covariance structure. \n",
    "\n",
    "\n",
    "Let the random vector $X_{Txn} = [X_1 , X_2, . . . ,X_n ]$ have a covariance matrix $\\Sigma_x$. Since $\\Sigma_x$ is non-negative definite, it has a spectral descomposition\n",
    "\n",
    "$$ \\Sigma_x = P \\Lambda P' $$\n",
    "\n",
    "where P is an orthonormal matrix consisting of the n eigenvectors and $\\Lambda$ is a diagonal matrix consisting of the n eigenvalues.\n",
    "Let $(\\lambda_1,e_1), . . , (\\lambda_n,e_n)$ be the eigenvalue-eigenvector pairs of $\\Sigma_x$, where $\\lambda_1 \\geq \\lambda_2 \\geq ...\\geq \\lambda_n \\geq 0$. Then, the variance of each new variable can be expressed as\n",
    "\n",
    "$$ Var(Y_i ) = a_{i}' \\Sigma_x a_i \\ \\forall \\ i = 1, 2, ..., n $$\n",
    "\n",
    "$$Cov(Y_i, Y_k ) = a_{i}' \\Sigma_x a_k \\ \\forall \\ i = 1, 2, ..., n $$\n",
    "\n",
    "PCs are defined as those uncorrelated linear combinations $Y_1, Y_2, . .  ,Y_n$  (i.e.: $Cov(Y_i, Y_k )= 0$)  whose variances in equation are as large as possible. Since the variance of the unobserved variables could easily be increased by increasing $a_i$, we impose the restriction of **unit lenght** to the vector of coefficients $a_i$: $ a_i'a_i = \\sum a_i^2 = 1$.\n",
    "\n",
    "The optimization problem can be expressed in n steps:\n",
    "\n",
    "For the first principal component:\n",
    "$$ max Var(Y_1) = a_{i}' \\Sigma_x a_i$$\n",
    "\n",
    "$$s.t. a_i'a_i = 1$$\n",
    "\n",
    "For the i-th principal component:\n",
    "$$ max Var(Y_i) = a_{i}' \\Sigma_x a_i$$\n",
    "\n",
    "$$s.t. a_i'a_i = 1 \\\\\n",
    "Cov(a_i'X, a_k'X)= 0 \\ \\  \\forall \\ k < i$$\n",
    "\n",
    "The i-th principal component of X is $Y_i = e_i'X $. Consecuently:\n",
    "\n",
    "\n",
    "$$ Var(Y_i) = e_i'\\Sigma_xe_i = \\lambda_i$$\n",
    "$$ Cov(Y_i, Y_j) = e_i'\\Sigma_xe_j = 0$$\n",
    "\n",
    "In addition, the proportion of total variance in X explained by the i-th PC is:\n",
    "\n",
    "$$ \\dfrac{\\lambda_i}{\\lambda_1+ ... + \\lambda_n} $$\n",
    "\n",
    "\n",
    "Since we are in the world of variance and covariance, which are measures of central tendency, we are really talking about deviation from the mean. Intuitively, PCs represent ways in which the observed random variables can deviate from their mean levels."
   ]
  },
  {
   "cell_type": "markdown",
   "metadata": {},
   "source": [
    "### In a nutshell:\n",
    "Principal Component Analysis (PCA) decomposes the data into many vectors called principal components that essentially “summarise” the given data. More specifically, these summaries are linear combinations of the input features that try to explain as much variance in the data as possible. By convention, these principal components are ordered by the amount of variance they can explain, with the first principal component explaining most of the data."
   ]
  },
  {
   "cell_type": "code",
   "execution_count": null,
   "metadata": {
    "scrolled": true
   },
   "outputs": [],
   "source": [
    "# We import the data again\n",
    "\n",
    "tickers_funds =['IAU','TLH','LQD','HYG','^GSPC','EFA','EEM','VNQ','DX-Y.NYB','EURUSD=X']\n",
    "\n",
    "data = pd.DataFrame(columns=tickers_funds)\n",
    "\n",
    "for ticker in tickers_funds:\n",
    "    data[ticker] = yf.download(ticker, period='10y')['Adj Close']\n",
    "    \n",
    "\n",
    "tickers_labels = ['Gold','iShares US Treas 10y-20y','iShares IG Corp',\n",
    "                  'iShares HY Corp','S&P 500','iShares MSCI EAFE','iShares MSCI EM',\n",
    "                  'Vanguard Real Estate Index', 'US Dollar/USDX - Index','EURUSD=X']\n",
    "\n",
    "data.columns = tickers_labels\n",
    "data = data.dropna()"
   ]
  },
  {
   "cell_type": "code",
   "execution_count": null,
   "metadata": {},
   "outputs": [],
   "source": [
    "data.head()"
   ]
  },
  {
   "cell_type": "code",
   "execution_count": null,
   "metadata": {},
   "outputs": [],
   "source": [
    "noa = len(tickers_labels)\n",
    "rets = data.pct_change().round(4).dropna()\n",
    "rets.head()"
   ]
  },
  {
   "cell_type": "markdown",
   "metadata": {},
   "source": [
    "https://scikit-learn.org/stable/modules/generated/sklearn.decomposition.PCA.html"
   ]
  },
  {
   "cell_type": "code",
   "execution_count": null,
   "metadata": {},
   "outputs": [],
   "source": [
    "from sklearn.decomposition import PCA"
   ]
  },
  {
   "cell_type": "code",
   "execution_count": null,
   "metadata": {},
   "outputs": [],
   "source": [
    "pca = PCA(n_components = noa) #We can extract as many PC as observed variables we have"
   ]
  },
  {
   "cell_type": "code",
   "execution_count": null,
   "metadata": {},
   "outputs": [],
   "source": [
    "principal = pd.DataFrame(pca.fit_transform(rets), # Fits the model and apply the dimensionality reduction on rets.\n",
    "                         \n",
    "                         columns = ['PC'+str(i) for i in range(1, noa+1)], # Columns = PC1, .., PC10\n",
    "                         index = rets.index) \n",
    "principal.head()"
   ]
  },
  {
   "cell_type": "code",
   "execution_count": null,
   "metadata": {},
   "outputs": [],
   "source": [
    "loadings = pd.DataFrame(pca.components_.T,  # Gives us the matrix of loadings: how each PC affects X\n",
    "                        columns = ['PC'+str(i) for i in range(1, noa+1)],\n",
    "                        index = rets.columns)"
   ]
  },
  {
   "cell_type": "code",
   "execution_count": null,
   "metadata": {},
   "outputs": [],
   "source": [
    "loadings"
   ]
  },
  {
   "cell_type": "code",
   "execution_count": null,
   "metadata": {},
   "outputs": [],
   "source": [
    "var = pca.explained_variance_ratio_  # Percentage of variance explained by each of the selected components\n",
    "\n",
    "var_factors = pd.DataFrame(columns = ['PC', 'Variance'])\n",
    "\n",
    "var_factors['PC'] = ['PC'+str(i) for i in range(1, noa+1)]\n",
    "var_factors['Variance']= [var[i].round(4) for i in range(len(var))]"
   ]
  },
  {
   "cell_type": "code",
   "execution_count": null,
   "metadata": {},
   "outputs": [],
   "source": [
    "var_factors"
   ]
  },
  {
   "cell_type": "markdown",
   "metadata": {},
   "source": [
    "### Explained variance"
   ]
  },
  {
   "cell_type": "code",
   "execution_count": null,
   "metadata": {},
   "outputs": [],
   "source": [
    "fig = plt.figure(figsize = (22,9))\n",
    "plt.bar(var_factors['PC'], var_factors['Variance'], label = 'Explained variance')\n",
    "plt.legend(loc = 'upper right', fontsize = 14)\n",
    "plt.grid(True)"
   ]
  },
  {
   "cell_type": "code",
   "execution_count": null,
   "metadata": {},
   "outputs": [],
   "source": [
    "fig = plt.figure(figsize = (22,9))\n",
    "plt.plot(var_factors['PC'], np.cumsum(var_factors['Variance']), label = 'Cumulative explained variance', marker = 'o')\n",
    "plt.legend(loc = 'upper left', fontsize = 14)\n",
    "plt.xticks(size = 14)\n",
    "plt.grid(True)"
   ]
  },
  {
   "cell_type": "markdown",
   "metadata": {},
   "source": [
    "Note that we can explain more than 90% of the variability of the porfolio with only 5 principal components. Let's only keep only 5 PC."
   ]
  },
  {
   "cell_type": "code",
   "execution_count": null,
   "metadata": {},
   "outputs": [],
   "source": [
    "pca = PCA(5)\n",
    "\n",
    "principal = pd.DataFrame(pca.fit_transform(rets),\n",
    "                         columns = ['PC'+str(i) for i in range(1, 6)],\n",
    "                         index = rets.index)\n",
    "\n",
    "loadings = pd.DataFrame(pca.components_.T, \n",
    "                        columns = ['PC'+str(i) for i in range(1, 6)],\n",
    "                        index = rets.columns)\n",
    "\n",
    "principal = principal*(-1)  #\n",
    "loadings = loadings*(-1)    #"
   ]
  },
  {
   "cell_type": "code",
   "execution_count": null,
   "metadata": {},
   "outputs": [],
   "source": [
    "loadings"
   ]
  },
  {
   "cell_type": "markdown",
   "metadata": {},
   "source": [
    "### What is a PC? How does it look like?\n",
    "\n",
    "As we said, a principal component aims to reduce the sources of variability in a data set. \n",
    "\n",
    "Think in our specific case of 10 asset. If we plot all their daily returns (only for 120 days, for illustration purposes), we get the following mess of a chart. "
   ]
  },
  {
   "cell_type": "code",
   "execution_count": null,
   "metadata": {},
   "outputs": [],
   "source": [
    "fig = plt.figure(figsize = (22,9))\n",
    "\n",
    "plt.plot(rets[:120])\n",
    "plt.autoscale(axis = 'x', tight = True)\n",
    "plt.title('Assets returns', fontsize = 15)\n",
    "plt.grid(True)"
   ]
  },
  {
   "cell_type": "markdown",
   "metadata": {},
   "source": [
    "Every asset is sort of doing its own thing and there is not much to extract from this chart besides that daily stock returns are noisy and volatile.\n",
    "\n",
    "Let's see what our first PC look like."
   ]
  },
  {
   "cell_type": "code",
   "execution_count": null,
   "metadata": {},
   "outputs": [],
   "source": [
    "fig = plt.figure(figsize = (22,9))\n",
    "\n",
    "plt.plot(rets[:120], alpha = 0.6)\n",
    "plt.plot(principal['PC1'][:120], color = 'black')\n",
    "plt.autoscale(axis = 'x', tight = True)\n",
    "plt.title('Principal component 1', fontsize = 15)\n",
    "plt.grid(True)"
   ]
  },
  {
   "cell_type": "markdown",
   "metadata": {},
   "source": [
    "Note how the first PC seems to follow the most important movements in the data. That is exactly how PC1 is found: by looking for the strongest underlying trend in the set\n",
    "\n",
    "### And the other PC?\n",
    "\n",
    "- The second PC corresponds to second strongest underlying trend in the set that also happens to be uncorrelated with component 1.\n",
    "- The third PC reproduces the third strongest underlying trend in the set that also happens to be uncorrelated with both components 1 and 2\n",
    "- And so on..."
   ]
  },
  {
   "cell_type": "markdown",
   "metadata": {},
   "source": [
    "### Factor loadings\n",
    "\n",
    "A factor loading is the sensivility of the observed variable (in this case, the asset returns) to a certain factor. Factor loadings are useful to understand and interpret the principal components."
   ]
  },
  {
   "cell_type": "code",
   "execution_count": null,
   "metadata": {},
   "outputs": [],
   "source": [
    "fig = plt.figure(figsize = (22,15))\n",
    "\n",
    "for i in range(len(loadings.columns)):\n",
    "    plt.subplot(2,3,i+1)\n",
    "    plt.bar(loadings.index, loadings['PC'+str(i+1)], color = sns.color_palette(palette = 'tab20'))\n",
    "    plt.title(loadings.columns.values[i], size = 15)\n",
    "    plt.xticks(rotation = 90, size = 12)\n",
    "    plt.grid(True)\n",
    "\n",
    "plt.tight_layout(pad=3.0)"
   ]
  },
  {
   "cell_type": "markdown",
   "metadata": {},
   "source": [
    "Instead of optimazing over the 10 original assets, we can perform the portfolio optimization to the principal components.\n",
    "\n",
    "We define functions that carry the already studied proceadure for portfolio optimization."
   ]
  }
 ],
 "metadata": {
  "kernelspec": {
   "display_name": "Python 3",
   "language": "python",
   "name": "python3"
  },
  "language_info": {
   "codemirror_mode": {
    "name": "ipython",
    "version": 3
   },
   "file_extension": ".py",
   "mimetype": "text/x-python",
   "name": "python",
   "nbconvert_exporter": "python",
   "pygments_lexer": "ipython3",
   "version": "3.8.3"
  }
 },
 "nbformat": 4,
 "nbformat_minor": 4
}
